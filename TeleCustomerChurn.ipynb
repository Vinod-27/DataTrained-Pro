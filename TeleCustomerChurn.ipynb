{
 "cells": [
  {
   "cell_type": "code",
   "execution_count": 1,
   "metadata": {},
   "outputs": [],
   "source": [
    "import pandas as pd\n",
    "import numpy as np\n",
    "import seaborn as sns\n",
    "import matplotlib.pyplot as plt\n",
    "import datetime as dt\n",
    "import warnings\n",
    "warnings.filterwarnings('ignore')"
   ]
  },
  {
   "cell_type": "code",
   "execution_count": 2,
   "metadata": {},
   "outputs": [],
   "source": [
    "df=pd.read_csv(r\"C:\\\\Users\\\\veenu\\\\Datasets\\\\TeleChurn.csv\")"
   ]
  },
  {
   "cell_type": "code",
   "execution_count": 3,
   "metadata": {},
   "outputs": [
    {
     "data": {
      "text/html": [
       "<div>\n",
       "<style scoped>\n",
       "    .dataframe tbody tr th:only-of-type {\n",
       "        vertical-align: middle;\n",
       "    }\n",
       "\n",
       "    .dataframe tbody tr th {\n",
       "        vertical-align: top;\n",
       "    }\n",
       "\n",
       "    .dataframe thead th {\n",
       "        text-align: right;\n",
       "    }\n",
       "</style>\n",
       "<table border=\"1\" class=\"dataframe\">\n",
       "  <thead>\n",
       "    <tr style=\"text-align: right;\">\n",
       "      <th></th>\n",
       "      <th>customerID</th>\n",
       "      <th>gender</th>\n",
       "      <th>SeniorCitizen</th>\n",
       "      <th>Partner</th>\n",
       "      <th>Dependents</th>\n",
       "      <th>tenure</th>\n",
       "      <th>PhoneService</th>\n",
       "      <th>MultipleLines</th>\n",
       "      <th>InternetService</th>\n",
       "      <th>OnlineSecurity</th>\n",
       "      <th>...</th>\n",
       "      <th>DeviceProtection</th>\n",
       "      <th>TechSupport</th>\n",
       "      <th>StreamingTV</th>\n",
       "      <th>StreamingMovies</th>\n",
       "      <th>Contract</th>\n",
       "      <th>PaperlessBilling</th>\n",
       "      <th>PaymentMethod</th>\n",
       "      <th>MonthlyCharges</th>\n",
       "      <th>TotalCharges</th>\n",
       "      <th>Churn</th>\n",
       "    </tr>\n",
       "  </thead>\n",
       "  <tbody>\n",
       "    <tr>\n",
       "      <th>0</th>\n",
       "      <td>7590-VHVEG</td>\n",
       "      <td>Female</td>\n",
       "      <td>0</td>\n",
       "      <td>Yes</td>\n",
       "      <td>No</td>\n",
       "      <td>1</td>\n",
       "      <td>No</td>\n",
       "      <td>No phone service</td>\n",
       "      <td>DSL</td>\n",
       "      <td>No</td>\n",
       "      <td>...</td>\n",
       "      <td>No</td>\n",
       "      <td>No</td>\n",
       "      <td>No</td>\n",
       "      <td>No</td>\n",
       "      <td>Month-to-month</td>\n",
       "      <td>Yes</td>\n",
       "      <td>Electronic check</td>\n",
       "      <td>29.85</td>\n",
       "      <td>29.85</td>\n",
       "      <td>No</td>\n",
       "    </tr>\n",
       "    <tr>\n",
       "      <th>1</th>\n",
       "      <td>5575-GNVDE</td>\n",
       "      <td>Male</td>\n",
       "      <td>0</td>\n",
       "      <td>No</td>\n",
       "      <td>No</td>\n",
       "      <td>34</td>\n",
       "      <td>Yes</td>\n",
       "      <td>No</td>\n",
       "      <td>DSL</td>\n",
       "      <td>Yes</td>\n",
       "      <td>...</td>\n",
       "      <td>Yes</td>\n",
       "      <td>No</td>\n",
       "      <td>No</td>\n",
       "      <td>No</td>\n",
       "      <td>One year</td>\n",
       "      <td>No</td>\n",
       "      <td>Mailed check</td>\n",
       "      <td>56.95</td>\n",
       "      <td>1889.50</td>\n",
       "      <td>No</td>\n",
       "    </tr>\n",
       "    <tr>\n",
       "      <th>2</th>\n",
       "      <td>3668-QPYBK</td>\n",
       "      <td>Male</td>\n",
       "      <td>0</td>\n",
       "      <td>No</td>\n",
       "      <td>No</td>\n",
       "      <td>2</td>\n",
       "      <td>Yes</td>\n",
       "      <td>No</td>\n",
       "      <td>DSL</td>\n",
       "      <td>Yes</td>\n",
       "      <td>...</td>\n",
       "      <td>No</td>\n",
       "      <td>No</td>\n",
       "      <td>No</td>\n",
       "      <td>No</td>\n",
       "      <td>Month-to-month</td>\n",
       "      <td>Yes</td>\n",
       "      <td>Mailed check</td>\n",
       "      <td>53.85</td>\n",
       "      <td>108.15</td>\n",
       "      <td>Yes</td>\n",
       "    </tr>\n",
       "    <tr>\n",
       "      <th>3</th>\n",
       "      <td>7795-CFOCW</td>\n",
       "      <td>Male</td>\n",
       "      <td>0</td>\n",
       "      <td>No</td>\n",
       "      <td>No</td>\n",
       "      <td>45</td>\n",
       "      <td>No</td>\n",
       "      <td>No phone service</td>\n",
       "      <td>DSL</td>\n",
       "      <td>Yes</td>\n",
       "      <td>...</td>\n",
       "      <td>Yes</td>\n",
       "      <td>Yes</td>\n",
       "      <td>No</td>\n",
       "      <td>No</td>\n",
       "      <td>One year</td>\n",
       "      <td>No</td>\n",
       "      <td>Bank transfer (automatic)</td>\n",
       "      <td>42.30</td>\n",
       "      <td>1840.75</td>\n",
       "      <td>No</td>\n",
       "    </tr>\n",
       "    <tr>\n",
       "      <th>4</th>\n",
       "      <td>9237-HQITU</td>\n",
       "      <td>Female</td>\n",
       "      <td>0</td>\n",
       "      <td>No</td>\n",
       "      <td>No</td>\n",
       "      <td>2</td>\n",
       "      <td>Yes</td>\n",
       "      <td>No</td>\n",
       "      <td>Fiber optic</td>\n",
       "      <td>No</td>\n",
       "      <td>...</td>\n",
       "      <td>No</td>\n",
       "      <td>No</td>\n",
       "      <td>No</td>\n",
       "      <td>No</td>\n",
       "      <td>Month-to-month</td>\n",
       "      <td>Yes</td>\n",
       "      <td>Electronic check</td>\n",
       "      <td>70.70</td>\n",
       "      <td>151.65</td>\n",
       "      <td>Yes</td>\n",
       "    </tr>\n",
       "    <tr>\n",
       "      <th>...</th>\n",
       "      <td>...</td>\n",
       "      <td>...</td>\n",
       "      <td>...</td>\n",
       "      <td>...</td>\n",
       "      <td>...</td>\n",
       "      <td>...</td>\n",
       "      <td>...</td>\n",
       "      <td>...</td>\n",
       "      <td>...</td>\n",
       "      <td>...</td>\n",
       "      <td>...</td>\n",
       "      <td>...</td>\n",
       "      <td>...</td>\n",
       "      <td>...</td>\n",
       "      <td>...</td>\n",
       "      <td>...</td>\n",
       "      <td>...</td>\n",
       "      <td>...</td>\n",
       "      <td>...</td>\n",
       "      <td>...</td>\n",
       "      <td>...</td>\n",
       "    </tr>\n",
       "    <tr>\n",
       "      <th>7038</th>\n",
       "      <td>6840-RESVB</td>\n",
       "      <td>Male</td>\n",
       "      <td>0</td>\n",
       "      <td>Yes</td>\n",
       "      <td>Yes</td>\n",
       "      <td>24</td>\n",
       "      <td>Yes</td>\n",
       "      <td>Yes</td>\n",
       "      <td>DSL</td>\n",
       "      <td>Yes</td>\n",
       "      <td>...</td>\n",
       "      <td>Yes</td>\n",
       "      <td>Yes</td>\n",
       "      <td>Yes</td>\n",
       "      <td>Yes</td>\n",
       "      <td>One year</td>\n",
       "      <td>Yes</td>\n",
       "      <td>Mailed check</td>\n",
       "      <td>84.80</td>\n",
       "      <td>1990.50</td>\n",
       "      <td>No</td>\n",
       "    </tr>\n",
       "    <tr>\n",
       "      <th>7039</th>\n",
       "      <td>2234-XADUH</td>\n",
       "      <td>Female</td>\n",
       "      <td>0</td>\n",
       "      <td>Yes</td>\n",
       "      <td>Yes</td>\n",
       "      <td>72</td>\n",
       "      <td>Yes</td>\n",
       "      <td>Yes</td>\n",
       "      <td>Fiber optic</td>\n",
       "      <td>No</td>\n",
       "      <td>...</td>\n",
       "      <td>Yes</td>\n",
       "      <td>No</td>\n",
       "      <td>Yes</td>\n",
       "      <td>Yes</td>\n",
       "      <td>One year</td>\n",
       "      <td>Yes</td>\n",
       "      <td>Credit card (automatic)</td>\n",
       "      <td>103.20</td>\n",
       "      <td>7362.90</td>\n",
       "      <td>No</td>\n",
       "    </tr>\n",
       "    <tr>\n",
       "      <th>7040</th>\n",
       "      <td>4801-JZAZL</td>\n",
       "      <td>Female</td>\n",
       "      <td>0</td>\n",
       "      <td>Yes</td>\n",
       "      <td>Yes</td>\n",
       "      <td>11</td>\n",
       "      <td>No</td>\n",
       "      <td>No phone service</td>\n",
       "      <td>DSL</td>\n",
       "      <td>Yes</td>\n",
       "      <td>...</td>\n",
       "      <td>No</td>\n",
       "      <td>No</td>\n",
       "      <td>No</td>\n",
       "      <td>No</td>\n",
       "      <td>Month-to-month</td>\n",
       "      <td>Yes</td>\n",
       "      <td>Electronic check</td>\n",
       "      <td>29.60</td>\n",
       "      <td>346.45</td>\n",
       "      <td>No</td>\n",
       "    </tr>\n",
       "    <tr>\n",
       "      <th>7041</th>\n",
       "      <td>8361-LTMKD</td>\n",
       "      <td>Male</td>\n",
       "      <td>1</td>\n",
       "      <td>Yes</td>\n",
       "      <td>No</td>\n",
       "      <td>4</td>\n",
       "      <td>Yes</td>\n",
       "      <td>Yes</td>\n",
       "      <td>Fiber optic</td>\n",
       "      <td>No</td>\n",
       "      <td>...</td>\n",
       "      <td>No</td>\n",
       "      <td>No</td>\n",
       "      <td>No</td>\n",
       "      <td>No</td>\n",
       "      <td>Month-to-month</td>\n",
       "      <td>Yes</td>\n",
       "      <td>Mailed check</td>\n",
       "      <td>74.40</td>\n",
       "      <td>306.60</td>\n",
       "      <td>Yes</td>\n",
       "    </tr>\n",
       "    <tr>\n",
       "      <th>7042</th>\n",
       "      <td>3186-AJIEK</td>\n",
       "      <td>Male</td>\n",
       "      <td>0</td>\n",
       "      <td>No</td>\n",
       "      <td>No</td>\n",
       "      <td>66</td>\n",
       "      <td>Yes</td>\n",
       "      <td>No</td>\n",
       "      <td>Fiber optic</td>\n",
       "      <td>Yes</td>\n",
       "      <td>...</td>\n",
       "      <td>Yes</td>\n",
       "      <td>Yes</td>\n",
       "      <td>Yes</td>\n",
       "      <td>Yes</td>\n",
       "      <td>Two year</td>\n",
       "      <td>Yes</td>\n",
       "      <td>Bank transfer (automatic)</td>\n",
       "      <td>105.65</td>\n",
       "      <td>6844.50</td>\n",
       "      <td>No</td>\n",
       "    </tr>\n",
       "  </tbody>\n",
       "</table>\n",
       "<p>7043 rows × 21 columns</p>\n",
       "</div>"
      ],
      "text/plain": [
       "      customerID  gender  SeniorCitizen Partner Dependents  tenure  \\\n",
       "0     7590-VHVEG  Female              0     Yes         No       1   \n",
       "1     5575-GNVDE    Male              0      No         No      34   \n",
       "2     3668-QPYBK    Male              0      No         No       2   \n",
       "3     7795-CFOCW    Male              0      No         No      45   \n",
       "4     9237-HQITU  Female              0      No         No       2   \n",
       "...          ...     ...            ...     ...        ...     ...   \n",
       "7038  6840-RESVB    Male              0     Yes        Yes      24   \n",
       "7039  2234-XADUH  Female              0     Yes        Yes      72   \n",
       "7040  4801-JZAZL  Female              0     Yes        Yes      11   \n",
       "7041  8361-LTMKD    Male              1     Yes         No       4   \n",
       "7042  3186-AJIEK    Male              0      No         No      66   \n",
       "\n",
       "     PhoneService     MultipleLines InternetService OnlineSecurity  ...  \\\n",
       "0              No  No phone service             DSL             No  ...   \n",
       "1             Yes                No             DSL            Yes  ...   \n",
       "2             Yes                No             DSL            Yes  ...   \n",
       "3              No  No phone service             DSL            Yes  ...   \n",
       "4             Yes                No     Fiber optic             No  ...   \n",
       "...           ...               ...             ...            ...  ...   \n",
       "7038          Yes               Yes             DSL            Yes  ...   \n",
       "7039          Yes               Yes     Fiber optic             No  ...   \n",
       "7040           No  No phone service             DSL            Yes  ...   \n",
       "7041          Yes               Yes     Fiber optic             No  ...   \n",
       "7042          Yes                No     Fiber optic            Yes  ...   \n",
       "\n",
       "     DeviceProtection TechSupport StreamingTV StreamingMovies        Contract  \\\n",
       "0                  No          No          No              No  Month-to-month   \n",
       "1                 Yes          No          No              No        One year   \n",
       "2                  No          No          No              No  Month-to-month   \n",
       "3                 Yes         Yes          No              No        One year   \n",
       "4                  No          No          No              No  Month-to-month   \n",
       "...               ...         ...         ...             ...             ...   \n",
       "7038              Yes         Yes         Yes             Yes        One year   \n",
       "7039              Yes          No         Yes             Yes        One year   \n",
       "7040               No          No          No              No  Month-to-month   \n",
       "7041               No          No          No              No  Month-to-month   \n",
       "7042              Yes         Yes         Yes             Yes        Two year   \n",
       "\n",
       "     PaperlessBilling              PaymentMethod MonthlyCharges  TotalCharges  \\\n",
       "0                 Yes           Electronic check          29.85         29.85   \n",
       "1                  No               Mailed check          56.95       1889.50   \n",
       "2                 Yes               Mailed check          53.85        108.15   \n",
       "3                  No  Bank transfer (automatic)          42.30       1840.75   \n",
       "4                 Yes           Electronic check          70.70        151.65   \n",
       "...               ...                        ...            ...           ...   \n",
       "7038              Yes               Mailed check          84.80       1990.50   \n",
       "7039              Yes    Credit card (automatic)         103.20       7362.90   \n",
       "7040              Yes           Electronic check          29.60        346.45   \n",
       "7041              Yes               Mailed check          74.40        306.60   \n",
       "7042              Yes  Bank transfer (automatic)         105.65       6844.50   \n",
       "\n",
       "      Churn  \n",
       "0        No  \n",
       "1        No  \n",
       "2       Yes  \n",
       "3        No  \n",
       "4       Yes  \n",
       "...     ...  \n",
       "7038     No  \n",
       "7039     No  \n",
       "7040     No  \n",
       "7041    Yes  \n",
       "7042     No  \n",
       "\n",
       "[7043 rows x 21 columns]"
      ]
     },
     "execution_count": 3,
     "metadata": {},
     "output_type": "execute_result"
    }
   ],
   "source": [
    "df"
   ]
  },
  {
   "cell_type": "markdown",
   "metadata": {},
   "source": [
    "# Data Information"
   ]
  },
  {
   "cell_type": "code",
   "execution_count": 4,
   "metadata": {},
   "outputs": [
    {
     "name": "stdout",
     "output_type": "stream",
     "text": [
      "<class 'pandas.core.frame.DataFrame'>\n",
      "RangeIndex: 7043 entries, 0 to 7042\n",
      "Data columns (total 21 columns):\n",
      " #   Column            Non-Null Count  Dtype  \n",
      "---  ------            --------------  -----  \n",
      " 0   customerID        7043 non-null   object \n",
      " 1   gender            7043 non-null   object \n",
      " 2   SeniorCitizen     7043 non-null   int64  \n",
      " 3   Partner           7043 non-null   object \n",
      " 4   Dependents        7043 non-null   object \n",
      " 5   tenure            7043 non-null   int64  \n",
      " 6   PhoneService      7043 non-null   object \n",
      " 7   MultipleLines     7043 non-null   object \n",
      " 8   InternetService   7043 non-null   object \n",
      " 9   OnlineSecurity    7043 non-null   object \n",
      " 10  OnlineBackup      7043 non-null   object \n",
      " 11  DeviceProtection  7043 non-null   object \n",
      " 12  TechSupport       7043 non-null   object \n",
      " 13  StreamingTV       7043 non-null   object \n",
      " 14  StreamingMovies   7043 non-null   object \n",
      " 15  Contract          7043 non-null   object \n",
      " 16  PaperlessBilling  7043 non-null   object \n",
      " 17  PaymentMethod     7043 non-null   object \n",
      " 18  MonthlyCharges    7043 non-null   float64\n",
      " 19  TotalCharges      7043 non-null   float64\n",
      " 20  Churn             7043 non-null   object \n",
      "dtypes: float64(2), int64(2), object(17)\n",
      "memory usage: 1.1+ MB\n"
     ]
    }
   ],
   "source": [
    "df.info()"
   ]
  },
  {
   "cell_type": "code",
   "execution_count": 5,
   "metadata": {},
   "outputs": [
    {
     "data": {
      "text/plain": [
       "customerID           object\n",
       "gender               object\n",
       "SeniorCitizen         int64\n",
       "Partner              object\n",
       "Dependents           object\n",
       "tenure                int64\n",
       "PhoneService         object\n",
       "MultipleLines        object\n",
       "InternetService      object\n",
       "OnlineSecurity       object\n",
       "OnlineBackup         object\n",
       "DeviceProtection     object\n",
       "TechSupport          object\n",
       "StreamingTV          object\n",
       "StreamingMovies      object\n",
       "Contract             object\n",
       "PaperlessBilling     object\n",
       "PaymentMethod        object\n",
       "MonthlyCharges      float64\n",
       "TotalCharges        float64\n",
       "Churn                object\n",
       "dtype: object"
      ]
     },
     "execution_count": 5,
     "metadata": {},
     "output_type": "execute_result"
    }
   ],
   "source": [
    "df.dtypes"
   ]
  },
  {
   "cell_type": "code",
   "execution_count": 6,
   "metadata": {},
   "outputs": [
    {
     "data": {
      "text/plain": [
       "customerID          0\n",
       "gender              0\n",
       "SeniorCitizen       0\n",
       "Partner             0\n",
       "Dependents          0\n",
       "tenure              0\n",
       "PhoneService        0\n",
       "MultipleLines       0\n",
       "InternetService     0\n",
       "OnlineSecurity      0\n",
       "OnlineBackup        0\n",
       "DeviceProtection    0\n",
       "TechSupport         0\n",
       "StreamingTV         0\n",
       "StreamingMovies     0\n",
       "Contract            0\n",
       "PaperlessBilling    0\n",
       "PaymentMethod       0\n",
       "MonthlyCharges      0\n",
       "TotalCharges        0\n",
       "Churn               0\n",
       "dtype: int64"
      ]
     },
     "execution_count": 6,
     "metadata": {},
     "output_type": "execute_result"
    }
   ],
   "source": [
    "df.isnull().sum()"
   ]
  },
  {
   "cell_type": "raw",
   "metadata": {},
   "source": [
    "In this data does not have any null values"
   ]
  },
  {
   "cell_type": "code",
   "execution_count": 7,
   "metadata": {},
   "outputs": [
    {
     "data": {
      "text/plain": [
       "<matplotlib.axes._subplots.AxesSubplot at 0x1af590574f0>"
      ]
     },
     "execution_count": 7,
     "metadata": {},
     "output_type": "execute_result"
    },
    {
     "data": {
      "image/png": "[encoded data removed]",
      "text/plain": [
       "<Figure size 432x288 with 2 Axes>"
      ]
     },
     "metadata": {
      "needs_background": "light"
     },
     "output_type": "display_data"
    }
   ],
   "source": [
    "sns.heatmap(df.isnull())"
   ]
  },
  {
   "cell_type": "code",
   "execution_count": 8,
   "metadata": {},
   "outputs": [
    {
     "data": {
      "text/plain": [
       "No     5174\n",
       "Yes    1869\n",
       "Name: Churn, dtype: int64"
      ]
     },
     "execution_count": 8,
     "metadata": {},
     "output_type": "execute_result"
    }
   ],
   "source": [
    "df['Churn'].value_counts()"
   ]
  },
  {
   "cell_type": "code",
   "execution_count": 9,
   "metadata": {},
   "outputs": [
    {
     "data": {
      "text/plain": [
       "(7043, 21)"
      ]
     },
     "execution_count": 9,
     "metadata": {},
     "output_type": "execute_result"
    }
   ],
   "source": [
    "df.shape"
   ]
  },
  {
   "cell_type": "markdown",
   "metadata": {},
   "source": [
    "# Explotary Data Analysis"
   ]
  },
  {
   "cell_type": "code",
   "execution_count": 10,
   "metadata": {},
   "outputs": [
    {
     "data": {
      "text/html": [
       "<div>\n",
       "<style scoped>\n",
       "    .dataframe tbody tr th:only-of-type {\n",
       "        vertical-align: middle;\n",
       "    }\n",
       "\n",
       "    .dataframe tbody tr th {\n",
       "        vertical-align: top;\n",
       "    }\n",
       "\n",
       "    .dataframe thead th {\n",
       "        text-align: right;\n",
       "    }\n",
       "</style>\n",
       "<table border=\"1\" class=\"dataframe\">\n",
       "  <thead>\n",
       "    <tr style=\"text-align: right;\">\n",
       "      <th></th>\n",
       "      <th>customerID</th>\n",
       "      <th>gender</th>\n",
       "      <th>SeniorCitizen</th>\n",
       "      <th>Partner</th>\n",
       "      <th>Dependents</th>\n",
       "      <th>tenure</th>\n",
       "      <th>PhoneService</th>\n",
       "      <th>MultipleLines</th>\n",
       "      <th>InternetService</th>\n",
       "      <th>OnlineSecurity</th>\n",
       "      <th>...</th>\n",
       "      <th>DeviceProtection</th>\n",
       "      <th>TechSupport</th>\n",
       "      <th>StreamingTV</th>\n",
       "      <th>StreamingMovies</th>\n",
       "      <th>Contract</th>\n",
       "      <th>PaperlessBilling</th>\n",
       "      <th>PaymentMethod</th>\n",
       "      <th>MonthlyCharges</th>\n",
       "      <th>TotalCharges</th>\n",
       "      <th>Churn</th>\n",
       "    </tr>\n",
       "  </thead>\n",
       "  <tbody>\n",
       "    <tr>\n",
       "      <th>0</th>\n",
       "      <td>7590-VHVEG</td>\n",
       "      <td>Female</td>\n",
       "      <td>0</td>\n",
       "      <td>Yes</td>\n",
       "      <td>No</td>\n",
       "      <td>1</td>\n",
       "      <td>No</td>\n",
       "      <td>No phone service</td>\n",
       "      <td>DSL</td>\n",
       "      <td>No</td>\n",
       "      <td>...</td>\n",
       "      <td>No</td>\n",
       "      <td>No</td>\n",
       "      <td>No</td>\n",
       "      <td>No</td>\n",
       "      <td>Month-to-month</td>\n",
       "      <td>Yes</td>\n",
       "      <td>Electronic check</td>\n",
       "      <td>29.85</td>\n",
       "      <td>29.85</td>\n",
       "      <td>No</td>\n",
       "    </tr>\n",
       "    <tr>\n",
       "      <th>1</th>\n",
       "      <td>5575-GNVDE</td>\n",
       "      <td>Male</td>\n",
       "      <td>0</td>\n",
       "      <td>No</td>\n",
       "      <td>No</td>\n",
       "      <td>34</td>\n",
       "      <td>Yes</td>\n",
       "      <td>No</td>\n",
       "      <td>DSL</td>\n",
       "      <td>Yes</td>\n",
       "      <td>...</td>\n",
       "      <td>Yes</td>\n",
       "      <td>No</td>\n",
       "      <td>No</td>\n",
       "      <td>No</td>\n",
       "      <td>One year</td>\n",
       "      <td>No</td>\n",
       "      <td>Mailed check</td>\n",
       "      <td>56.95</td>\n",
       "      <td>1889.50</td>\n",
       "      <td>No</td>\n",
       "    </tr>\n",
       "    <tr>\n",
       "      <th>2</th>\n",
       "      <td>3668-QPYBK</td>\n",
       "      <td>Male</td>\n",
       "      <td>0</td>\n",
       "      <td>No</td>\n",
       "      <td>No</td>\n",
       "      <td>2</td>\n",
       "      <td>Yes</td>\n",
       "      <td>No</td>\n",
       "      <td>DSL</td>\n",
       "      <td>Yes</td>\n",
       "      <td>...</td>\n",
       "      <td>No</td>\n",
       "      <td>No</td>\n",
       "      <td>No</td>\n",
       "      <td>No</td>\n",
       "      <td>Month-to-month</td>\n",
       "      <td>Yes</td>\n",
       "      <td>Mailed check</td>\n",
       "      <td>53.85</td>\n",
       "      <td>108.15</td>\n",
       "      <td>Yes</td>\n",
       "    </tr>\n",
       "  </tbody>\n",
       "</table>\n",
       "<p>3 rows × 21 columns</p>\n",
       "</div>"
      ],
      "text/plain": [
       "   customerID  gender  SeniorCitizen Partner Dependents  tenure PhoneService  \\\n",
       "0  7590-VHVEG  Female              0     Yes         No       1           No   \n",
       "1  5575-GNVDE    Male              0      No         No      34          Yes   \n",
       "2  3668-QPYBK    Male              0      No         No       2          Yes   \n",
       "\n",
       "      MultipleLines InternetService OnlineSecurity  ... DeviceProtection  \\\n",
       "0  No phone service             DSL             No  ...               No   \n",
       "1                No             DSL            Yes  ...              Yes   \n",
       "2                No             DSL            Yes  ...               No   \n",
       "\n",
       "  TechSupport StreamingTV StreamingMovies        Contract PaperlessBilling  \\\n",
       "0          No          No              No  Month-to-month              Yes   \n",
       "1          No          No              No        One year               No   \n",
       "2          No          No              No  Month-to-month              Yes   \n",
       "\n",
       "      PaymentMethod MonthlyCharges  TotalCharges  Churn  \n",
       "0  Electronic check          29.85         29.85     No  \n",
       "1      Mailed check          56.95       1889.50     No  \n",
       "2      Mailed check          53.85        108.15    Yes  \n",
       "\n",
       "[3 rows x 21 columns]"
      ]
     },
     "execution_count": 10,
     "metadata": {},
     "output_type": "execute_result"
    }
   ],
   "source": [
    "df.head(3)"
   ]
  },
  {
   "cell_type": "code",
   "execution_count": 11,
   "metadata": {},
   "outputs": [
    {
     "data": {
      "text/plain": [
       "count     7043\n",
       "unique       2\n",
       "top         No\n",
       "freq      5174\n",
       "Name: Churn, dtype: object"
      ]
     },
     "execution_count": 11,
     "metadata": {},
     "output_type": "execute_result"
    }
   ],
   "source": [
    "df.Churn.describe()"
   ]
  },
  {
   "cell_type": "markdown",
   "metadata": {},
   "source": [
    "Univariant Analysis"
   ]
  },
  {
   "cell_type": "code",
   "execution_count": 12,
   "metadata": {},
   "outputs": [
    {
     "data": {
      "text/plain": [
       "<matplotlib.axes._subplots.AxesSubplot at 0x1af591c4190>"
      ]
     },
     "execution_count": 12,
     "metadata": {},
     "output_type": "execute_result"
    },
    {
     "data": {
      "image/png": "[encoded data removed]",
      "text/plain": [
       "<Figure size 432x288 with 1 Axes>"
      ]
     },
     "metadata": {
      "needs_background": "light"
     },
     "output_type": "display_data"
    }
   ],
   "source": [
    "sns.countplot(df['Churn'])"
   ]
  },
  {
   "cell_type": "markdown",
   "metadata": {},
   "source": [
    "Bivariant Analysis"
   ]
  },
  {
   "cell_type": "code",
   "execution_count": 13,
   "metadata": {},
   "outputs": [
    {
     "data": {
      "text/plain": [
       "<matplotlib.axes._subplots.AxesSubplot at 0x1af594c0fa0>"
      ]
     },
     "execution_count": 13,
     "metadata": {},
     "output_type": "execute_result"
    },
    {
     "data": {
      "image/png": "[encoded data removed]",
      "text/plain": [
       "<Figure size 720x360 with 1 Axes>"
      ]
     },
     "metadata": {
      "needs_background": "light"
     },
     "output_type": "display_data"
    }
   ],
   "source": [
    "plt.figure(figsize=(10,5))\n",
    "sns.countplot('gender',data=df,hue='Churn')"
   ]
  },
  {
   "cell_type": "raw",
   "metadata": {},
   "source": [
    "Above visualization Femals and Males are approximately Same count   "
   ]
  },
  {
   "cell_type": "code",
   "execution_count": 14,
   "metadata": {},
   "outputs": [
    {
     "data": {
      "text/plain": [
       "<matplotlib.axes._subplots.AxesSubplot at 0x1af595276d0>"
      ]
     },
     "execution_count": 14,
     "metadata": {},
     "output_type": "execute_result"
    },
    {
     "data": {
      "image/png": "[encoded data removed]",
      "text/plain": [
       "<Figure size 720x360 with 1 Axes>"
      ]
     },
     "metadata": {
      "needs_background": "light"
     },
     "output_type": "display_data"
    }
   ],
   "source": [
    "plt.figure(figsize=(10,5))\n",
    "sns.countplot('PhoneService',data=df,hue='Churn')"
   ]
  },
  {
   "cell_type": "raw",
   "metadata": {},
   "source": [
    "In this Data Phone Services have more "
   ]
  },
  {
   "cell_type": "code",
   "execution_count": 15,
   "metadata": {},
   "outputs": [
    {
     "data": {
      "text/plain": [
       "<matplotlib.axes._subplots.AxesSubplot at 0x1af595337c0>"
      ]
     },
     "execution_count": 15,
     "metadata": {},
     "output_type": "execute_result"
    },
    {
     "data": {
      "image/png": "[encoded data removed]",
      "text/plain": [
       "<Figure size 720x360 with 1 Axes>"
      ]
     },
     "metadata": {
      "needs_background": "light"
     },
     "output_type": "display_data"
    }
   ],
   "source": [
    "plt.figure(figsize=(10,5))\n",
    "sns.countplot('InternetService',data=df,hue='Churn')"
   ]
  },
  {
   "cell_type": "code",
   "execution_count": 16,
   "metadata": {},
   "outputs": [
    {
     "data": {
      "text/plain": [
       "<matplotlib.axes._subplots.AxesSubplot at 0x1af59ab99d0>"
      ]
     },
     "execution_count": 16,
     "metadata": {},
     "output_type": "execute_result"
    },
    {
     "data": {
      "image/png": "[encoded data removed]",
      "text/plain": [
       "<Figure size 720x360 with 1 Axes>"
      ]
     },
     "metadata": {
      "needs_background": "light"
     },
     "output_type": "display_data"
    }
   ],
   "source": [
    "plt.figure(figsize=(10,5))\n",
    "sns.countplot('OnlineSecurity',data=df,hue='Churn')"
   ]
  },
  {
   "cell_type": "code",
   "execution_count": 17,
   "metadata": {},
   "outputs": [
    {
     "data": {
      "text/plain": [
       "<matplotlib.axes._subplots.AxesSubplot at 0x1af59b1f760>"
      ]
     },
     "execution_count": 17,
     "metadata": {},
     "output_type": "execute_result"
    },
    {
     "data": {
      "image/png": "[encoded data removed]",
      "text/plain": [
       "<Figure size 720x360 with 1 Axes>"
      ]
     },
     "metadata": {
      "needs_background": "light"
     },
     "output_type": "display_data"
    }
   ],
   "source": [
    "plt.figure(figsize=(10,5))\n",
    "sns.countplot('TechSupport',data=df,hue='Churn')"
   ]
  },
  {
   "cell_type": "code",
   "execution_count": 18,
   "metadata": {},
   "outputs": [
    {
     "data": {
      "text/plain": [
       "<matplotlib.axes._subplots.AxesSubplot at 0x1af59b7e4f0>"
      ]
     },
     "execution_count": 18,
     "metadata": {},
     "output_type": "execute_result"
    },
    {
     "data": {
      "image/png": "[encoded data removed]",
      "text/plain": [
       "<Figure size 720x360 with 1 Axes>"
      ]
     },
     "metadata": {
      "needs_background": "light"
     },
     "output_type": "display_data"
    }
   ],
   "source": [
    "plt.figure(figsize=(10,5))\n",
    "sns.countplot('StreamingTV',data=df,hue='Churn')"
   ]
  },
  {
   "cell_type": "code",
   "execution_count": 19,
   "metadata": {},
   "outputs": [
    {
     "data": {
      "text/plain": [
       "<matplotlib.axes._subplots.AxesSubplot at 0x1af59be6c70>"
      ]
     },
     "execution_count": 19,
     "metadata": {},
     "output_type": "execute_result"
    },
    {
     "data": {
      "image/png": "[encoded data removed]",
      "text/plain": [
       "<Figure size 720x360 with 1 Axes>"
      ]
     },
     "metadata": {
      "needs_background": "light"
     },
     "output_type": "display_data"
    }
   ],
   "source": [
    "plt.figure(figsize=(10,5))\n",
    "sns.countplot('PaymentMethod',data=df,hue='Churn')"
   ]
  },
  {
   "cell_type": "code",
   "execution_count": 20,
   "metadata": {},
   "outputs": [],
   "source": [
    "# maxim=0\n",
    "# for i in df['TotalCharges']:\n",
    "#     if len(i.split(\"--\"))>maxim:\n",
    "#         maxim=len(i.split(\"--\"))\n",
    "# print(\"Maxim\",maxim)"
   ]
  },
  {
   "cell_type": "code",
   "execution_count": 21,
   "metadata": {},
   "outputs": [],
   "source": [
    "# df['TotalCharges'] = df['TotalCharges'].astype(int)"
   ]
  },
  {
   "cell_type": "markdown",
   "metadata": {},
   "source": [
    "Checking Outliers on Continuos columns"
   ]
  },
  {
   "cell_type": "code",
   "execution_count": 22,
   "metadata": {},
   "outputs": [
    {
     "data": {
      "image/png": "[encoded data removed]",
      "text/plain": [
       "<Figure size 432x288 with 1 Axes>"
      ]
     },
     "metadata": {
      "needs_background": "light"
     },
     "output_type": "display_data"
    },
    {
     "data": {
      "image/png": "[encoded data removed]",
      "text/plain": [
       "<Figure size 432x288 with 1 Axes>"
      ]
     },
     "metadata": {
      "needs_background": "light"
     },
     "output_type": "display_data"
    },
    {
     "data": {
      "image/png": "[encoded data removed]",
      "text/plain": [
       "<Figure size 432x288 with 1 Axes>"
      ]
     },
     "metadata": {
      "needs_background": "light"
     },
     "output_type": "display_data"
    }
   ],
   "source": [
    "for i in ['tenure','MonthlyCharges','TotalCharges']:\n",
    "    sns.distplot(df[i])\n",
    "    plt.show()"
   ]
  },
  {
   "cell_type": "markdown",
   "metadata": {},
   "source": [
    "# Data Cleaning"
   ]
  },
  {
   "cell_type": "code",
   "execution_count": 23,
   "metadata": {},
   "outputs": [
    {
     "data": {
      "text/html": [
       "<div>\n",
       "<style scoped>\n",
       "    .dataframe tbody tr th:only-of-type {\n",
       "        vertical-align: middle;\n",
       "    }\n",
       "\n",
       "    .dataframe tbody tr th {\n",
       "        vertical-align: top;\n",
       "    }\n",
       "\n",
       "    .dataframe thead th {\n",
       "        text-align: right;\n",
       "    }\n",
       "</style>\n",
       "<table border=\"1\" class=\"dataframe\">\n",
       "  <thead>\n",
       "    <tr style=\"text-align: right;\">\n",
       "      <th></th>\n",
       "      <th>customerID</th>\n",
       "      <th>gender</th>\n",
       "      <th>SeniorCitizen</th>\n",
       "      <th>Partner</th>\n",
       "      <th>Dependents</th>\n",
       "      <th>tenure</th>\n",
       "      <th>PhoneService</th>\n",
       "      <th>MultipleLines</th>\n",
       "      <th>InternetService</th>\n",
       "      <th>OnlineSecurity</th>\n",
       "      <th>...</th>\n",
       "      <th>DeviceProtection</th>\n",
       "      <th>TechSupport</th>\n",
       "      <th>StreamingTV</th>\n",
       "      <th>StreamingMovies</th>\n",
       "      <th>Contract</th>\n",
       "      <th>PaperlessBilling</th>\n",
       "      <th>PaymentMethod</th>\n",
       "      <th>MonthlyCharges</th>\n",
       "      <th>TotalCharges</th>\n",
       "      <th>Churn</th>\n",
       "    </tr>\n",
       "  </thead>\n",
       "  <tbody>\n",
       "    <tr>\n",
       "      <th>0</th>\n",
       "      <td>7590-VHVEG</td>\n",
       "      <td>Female</td>\n",
       "      <td>0</td>\n",
       "      <td>Yes</td>\n",
       "      <td>No</td>\n",
       "      <td>1</td>\n",
       "      <td>No</td>\n",
       "      <td>No phone service</td>\n",
       "      <td>DSL</td>\n",
       "      <td>No</td>\n",
       "      <td>...</td>\n",
       "      <td>No</td>\n",
       "      <td>No</td>\n",
       "      <td>No</td>\n",
       "      <td>No</td>\n",
       "      <td>Month-to-month</td>\n",
       "      <td>Yes</td>\n",
       "      <td>Electronic check</td>\n",
       "      <td>29.85</td>\n",
       "      <td>29.85</td>\n",
       "      <td>No</td>\n",
       "    </tr>\n",
       "    <tr>\n",
       "      <th>1</th>\n",
       "      <td>5575-GNVDE</td>\n",
       "      <td>Male</td>\n",
       "      <td>0</td>\n",
       "      <td>No</td>\n",
       "      <td>No</td>\n",
       "      <td>34</td>\n",
       "      <td>Yes</td>\n",
       "      <td>No</td>\n",
       "      <td>DSL</td>\n",
       "      <td>Yes</td>\n",
       "      <td>...</td>\n",
       "      <td>Yes</td>\n",
       "      <td>No</td>\n",
       "      <td>No</td>\n",
       "      <td>No</td>\n",
       "      <td>One year</td>\n",
       "      <td>No</td>\n",
       "      <td>Mailed check</td>\n",
       "      <td>56.95</td>\n",
       "      <td>1889.50</td>\n",
       "      <td>No</td>\n",
       "    </tr>\n",
       "    <tr>\n",
       "      <th>2</th>\n",
       "      <td>3668-QPYBK</td>\n",
       "      <td>Male</td>\n",
       "      <td>0</td>\n",
       "      <td>No</td>\n",
       "      <td>No</td>\n",
       "      <td>2</td>\n",
       "      <td>Yes</td>\n",
       "      <td>No</td>\n",
       "      <td>DSL</td>\n",
       "      <td>Yes</td>\n",
       "      <td>...</td>\n",
       "      <td>No</td>\n",
       "      <td>No</td>\n",
       "      <td>No</td>\n",
       "      <td>No</td>\n",
       "      <td>Month-to-month</td>\n",
       "      <td>Yes</td>\n",
       "      <td>Mailed check</td>\n",
       "      <td>53.85</td>\n",
       "      <td>108.15</td>\n",
       "      <td>Yes</td>\n",
       "    </tr>\n",
       "  </tbody>\n",
       "</table>\n",
       "<p>3 rows × 21 columns</p>\n",
       "</div>"
      ],
      "text/plain": [
       "   customerID  gender  SeniorCitizen Partner Dependents  tenure PhoneService  \\\n",
       "0  7590-VHVEG  Female              0     Yes         No       1           No   \n",
       "1  5575-GNVDE    Male              0      No         No      34          Yes   \n",
       "2  3668-QPYBK    Male              0      No         No       2          Yes   \n",
       "\n",
       "      MultipleLines InternetService OnlineSecurity  ... DeviceProtection  \\\n",
       "0  No phone service             DSL             No  ...               No   \n",
       "1                No             DSL            Yes  ...              Yes   \n",
       "2                No             DSL            Yes  ...               No   \n",
       "\n",
       "  TechSupport StreamingTV StreamingMovies        Contract PaperlessBilling  \\\n",
       "0          No          No              No  Month-to-month              Yes   \n",
       "1          No          No              No        One year               No   \n",
       "2          No          No              No  Month-to-month              Yes   \n",
       "\n",
       "      PaymentMethod MonthlyCharges  TotalCharges  Churn  \n",
       "0  Electronic check          29.85         29.85     No  \n",
       "1      Mailed check          56.95       1889.50     No  \n",
       "2      Mailed check          53.85        108.15    Yes  \n",
       "\n",
       "[3 rows x 21 columns]"
      ]
     },
     "execution_count": 23,
     "metadata": {},
     "output_type": "execute_result"
    }
   ],
   "source": [
    "df.head(3)\n"
   ]
  },
  {
   "cell_type": "code",
   "execution_count": 24,
   "metadata": {},
   "outputs": [],
   "source": [
    "varlist =  ['PhoneService', 'PaperlessBilling', 'Churn', 'Partner', 'Dependents']\n",
    "def binar(x):\n",
    "    return x.map({'Yes': 1, \"No\": 0})\n",
    "df[varlist]=df[varlist].apply(binar)"
   ]
  },
  {
   "cell_type": "raw",
   "metadata": {},
   "source": [
    "I converted binaycolumns data in  1 to 0 "
   ]
  },
  {
   "cell_type": "code",
   "execution_count": 25,
   "metadata": {},
   "outputs": [
    {
     "data": {
      "text/html": [
       "<div>\n",
       "<style scoped>\n",
       "    .dataframe tbody tr th:only-of-type {\n",
       "        vertical-align: middle;\n",
       "    }\n",
       "\n",
       "    .dataframe tbody tr th {\n",
       "        vertical-align: top;\n",
       "    }\n",
       "\n",
       "    .dataframe thead th {\n",
       "        text-align: right;\n",
       "    }\n",
       "</style>\n",
       "<table border=\"1\" class=\"dataframe\">\n",
       "  <thead>\n",
       "    <tr style=\"text-align: right;\">\n",
       "      <th></th>\n",
       "      <th>customerID</th>\n",
       "      <th>gender</th>\n",
       "      <th>SeniorCitizen</th>\n",
       "      <th>Partner</th>\n",
       "      <th>Dependents</th>\n",
       "      <th>tenure</th>\n",
       "      <th>PhoneService</th>\n",
       "      <th>MultipleLines</th>\n",
       "      <th>InternetService</th>\n",
       "      <th>OnlineSecurity</th>\n",
       "      <th>...</th>\n",
       "      <th>DeviceProtection</th>\n",
       "      <th>TechSupport</th>\n",
       "      <th>StreamingTV</th>\n",
       "      <th>StreamingMovies</th>\n",
       "      <th>Contract</th>\n",
       "      <th>PaperlessBilling</th>\n",
       "      <th>PaymentMethod</th>\n",
       "      <th>MonthlyCharges</th>\n",
       "      <th>TotalCharges</th>\n",
       "      <th>Churn</th>\n",
       "    </tr>\n",
       "  </thead>\n",
       "  <tbody>\n",
       "    <tr>\n",
       "      <th>0</th>\n",
       "      <td>7590-VHVEG</td>\n",
       "      <td>Female</td>\n",
       "      <td>0</td>\n",
       "      <td>1</td>\n",
       "      <td>0</td>\n",
       "      <td>1</td>\n",
       "      <td>0</td>\n",
       "      <td>No phone service</td>\n",
       "      <td>DSL</td>\n",
       "      <td>No</td>\n",
       "      <td>...</td>\n",
       "      <td>No</td>\n",
       "      <td>No</td>\n",
       "      <td>No</td>\n",
       "      <td>No</td>\n",
       "      <td>Month-to-month</td>\n",
       "      <td>1</td>\n",
       "      <td>Electronic check</td>\n",
       "      <td>29.85</td>\n",
       "      <td>29.85</td>\n",
       "      <td>0</td>\n",
       "    </tr>\n",
       "    <tr>\n",
       "      <th>1</th>\n",
       "      <td>5575-GNVDE</td>\n",
       "      <td>Male</td>\n",
       "      <td>0</td>\n",
       "      <td>0</td>\n",
       "      <td>0</td>\n",
       "      <td>34</td>\n",
       "      <td>1</td>\n",
       "      <td>No</td>\n",
       "      <td>DSL</td>\n",
       "      <td>Yes</td>\n",
       "      <td>...</td>\n",
       "      <td>Yes</td>\n",
       "      <td>No</td>\n",
       "      <td>No</td>\n",
       "      <td>No</td>\n",
       "      <td>One year</td>\n",
       "      <td>0</td>\n",
       "      <td>Mailed check</td>\n",
       "      <td>56.95</td>\n",
       "      <td>1889.50</td>\n",
       "      <td>0</td>\n",
       "    </tr>\n",
       "    <tr>\n",
       "      <th>2</th>\n",
       "      <td>3668-QPYBK</td>\n",
       "      <td>Male</td>\n",
       "      <td>0</td>\n",
       "      <td>0</td>\n",
       "      <td>0</td>\n",
       "      <td>2</td>\n",
       "      <td>1</td>\n",
       "      <td>No</td>\n",
       "      <td>DSL</td>\n",
       "      <td>Yes</td>\n",
       "      <td>...</td>\n",
       "      <td>No</td>\n",
       "      <td>No</td>\n",
       "      <td>No</td>\n",
       "      <td>No</td>\n",
       "      <td>Month-to-month</td>\n",
       "      <td>1</td>\n",
       "      <td>Mailed check</td>\n",
       "      <td>53.85</td>\n",
       "      <td>108.15</td>\n",
       "      <td>1</td>\n",
       "    </tr>\n",
       "  </tbody>\n",
       "</table>\n",
       "<p>3 rows × 21 columns</p>\n",
       "</div>"
      ],
      "text/plain": [
       "   customerID  gender  SeniorCitizen  Partner  Dependents  tenure  \\\n",
       "0  7590-VHVEG  Female              0        1           0       1   \n",
       "1  5575-GNVDE    Male              0        0           0      34   \n",
       "2  3668-QPYBK    Male              0        0           0       2   \n",
       "\n",
       "   PhoneService     MultipleLines InternetService OnlineSecurity  ...  \\\n",
       "0             0  No phone service             DSL             No  ...   \n",
       "1             1                No             DSL            Yes  ...   \n",
       "2             1                No             DSL            Yes  ...   \n",
       "\n",
       "  DeviceProtection TechSupport StreamingTV StreamingMovies        Contract  \\\n",
       "0               No          No          No              No  Month-to-month   \n",
       "1              Yes          No          No              No        One year   \n",
       "2               No          No          No              No  Month-to-month   \n",
       "\n",
       "  PaperlessBilling     PaymentMethod MonthlyCharges  TotalCharges  Churn  \n",
       "0                1  Electronic check          29.85         29.85      0  \n",
       "1                0      Mailed check          56.95       1889.50      0  \n",
       "2                1      Mailed check          53.85        108.15      1  \n",
       "\n",
       "[3 rows x 21 columns]"
      ]
     },
     "execution_count": 25,
     "metadata": {},
     "output_type": "execute_result"
    }
   ],
   "source": [
    "df.head(3)"
   ]
  },
  {
   "cell_type": "code",
   "execution_count": 26,
   "metadata": {},
   "outputs": [
    {
     "data": {
      "text/plain": [
       "No                     3088\n",
       "Yes                    2429\n",
       "No internet service    1526\n",
       "Name: OnlineBackup, dtype: int64"
      ]
     },
     "execution_count": 26,
     "metadata": {},
     "output_type": "execute_result"
    }
   ],
   "source": [
    "df['OnlineBackup'].value_counts()"
   ]
  },
  {
   "cell_type": "code",
   "execution_count": 27,
   "metadata": {},
   "outputs": [],
   "source": [
    "df2=pd.get_dummies(['gender','MultipleLines','InternetService','OnlineSecurity','DeviceProtection','OnlineBackup',\n",
    "                    'DeviceProtection','TechSupport','StreamingTV','StreamingMovies','Contract','PaymentMethod'])\n",
    "df.drop(['gender','MultipleLines','InternetService','OnlineSecurity','DeviceProtection','OnlineBackup',\n",
    "                    'DeviceProtection','TechSupport','StreamingTV','StreamingMovies','Contract','PaymentMethod']\n",
    "        ,axis=1,inplace=True)"
   ]
  },
  {
   "cell_type": "raw",
   "metadata": {},
   "source": [
    "Get Dummies applied on categorical columns"
   ]
  },
  {
   "cell_type": "code",
   "execution_count": 28,
   "metadata": {},
   "outputs": [],
   "source": [
    "dfn=pd.concat([df,df2],axis=1)"
   ]
  },
  {
   "cell_type": "code",
   "execution_count": 29,
   "metadata": {},
   "outputs": [
    {
     "data": {
      "text/html": [
       "<div>\n",
       "<style scoped>\n",
       "    .dataframe tbody tr th:only-of-type {\n",
       "        vertical-align: middle;\n",
       "    }\n",
       "\n",
       "    .dataframe tbody tr th {\n",
       "        vertical-align: top;\n",
       "    }\n",
       "\n",
       "    .dataframe thead th {\n",
       "        text-align: right;\n",
       "    }\n",
       "</style>\n",
       "<table border=\"1\" class=\"dataframe\">\n",
       "  <thead>\n",
       "    <tr style=\"text-align: right;\">\n",
       "      <th></th>\n",
       "      <th>customerID</th>\n",
       "      <th>SeniorCitizen</th>\n",
       "      <th>Partner</th>\n",
       "      <th>Dependents</th>\n",
       "      <th>tenure</th>\n",
       "      <th>PhoneService</th>\n",
       "      <th>PaperlessBilling</th>\n",
       "      <th>MonthlyCharges</th>\n",
       "      <th>TotalCharges</th>\n",
       "      <th>Churn</th>\n",
       "      <th>...</th>\n",
       "      <th>DeviceProtection</th>\n",
       "      <th>InternetService</th>\n",
       "      <th>MultipleLines</th>\n",
       "      <th>OnlineBackup</th>\n",
       "      <th>OnlineSecurity</th>\n",
       "      <th>PaymentMethod</th>\n",
       "      <th>StreamingMovies</th>\n",
       "      <th>StreamingTV</th>\n",
       "      <th>TechSupport</th>\n",
       "      <th>gender</th>\n",
       "    </tr>\n",
       "  </thead>\n",
       "  <tbody>\n",
       "    <tr>\n",
       "      <th>0</th>\n",
       "      <td>7590-VHVEG</td>\n",
       "      <td>0</td>\n",
       "      <td>1</td>\n",
       "      <td>0</td>\n",
       "      <td>1</td>\n",
       "      <td>0</td>\n",
       "      <td>1</td>\n",
       "      <td>29.85</td>\n",
       "      <td>29.85</td>\n",
       "      <td>0</td>\n",
       "      <td>...</td>\n",
       "      <td>0.0</td>\n",
       "      <td>0.0</td>\n",
       "      <td>0.0</td>\n",
       "      <td>0.0</td>\n",
       "      <td>0.0</td>\n",
       "      <td>0.0</td>\n",
       "      <td>0.0</td>\n",
       "      <td>0.0</td>\n",
       "      <td>0.0</td>\n",
       "      <td>1.0</td>\n",
       "    </tr>\n",
       "    <tr>\n",
       "      <th>1</th>\n",
       "      <td>5575-GNVDE</td>\n",
       "      <td>0</td>\n",
       "      <td>0</td>\n",
       "      <td>0</td>\n",
       "      <td>34</td>\n",
       "      <td>1</td>\n",
       "      <td>0</td>\n",
       "      <td>56.95</td>\n",
       "      <td>1889.50</td>\n",
       "      <td>0</td>\n",
       "      <td>...</td>\n",
       "      <td>0.0</td>\n",
       "      <td>0.0</td>\n",
       "      <td>1.0</td>\n",
       "      <td>0.0</td>\n",
       "      <td>0.0</td>\n",
       "      <td>0.0</td>\n",
       "      <td>0.0</td>\n",
       "      <td>0.0</td>\n",
       "      <td>0.0</td>\n",
       "      <td>0.0</td>\n",
       "    </tr>\n",
       "    <tr>\n",
       "      <th>2</th>\n",
       "      <td>3668-QPYBK</td>\n",
       "      <td>0</td>\n",
       "      <td>0</td>\n",
       "      <td>0</td>\n",
       "      <td>2</td>\n",
       "      <td>1</td>\n",
       "      <td>1</td>\n",
       "      <td>53.85</td>\n",
       "      <td>108.15</td>\n",
       "      <td>1</td>\n",
       "      <td>...</td>\n",
       "      <td>0.0</td>\n",
       "      <td>1.0</td>\n",
       "      <td>0.0</td>\n",
       "      <td>0.0</td>\n",
       "      <td>0.0</td>\n",
       "      <td>0.0</td>\n",
       "      <td>0.0</td>\n",
       "      <td>0.0</td>\n",
       "      <td>0.0</td>\n",
       "      <td>0.0</td>\n",
       "    </tr>\n",
       "  </tbody>\n",
       "</table>\n",
       "<p>3 rows × 21 columns</p>\n",
       "</div>"
      ],
      "text/plain": [
       "   customerID  SeniorCitizen  Partner  Dependents  tenure  PhoneService  \\\n",
       "0  7590-VHVEG              0        1           0       1             0   \n",
       "1  5575-GNVDE              0        0           0      34             1   \n",
       "2  3668-QPYBK              0        0           0       2             1   \n",
       "\n",
       "   PaperlessBilling  MonthlyCharges  TotalCharges  Churn  ...  \\\n",
       "0                 1           29.85         29.85      0  ...   \n",
       "1                 0           56.95       1889.50      0  ...   \n",
       "2                 1           53.85        108.15      1  ...   \n",
       "\n",
       "   DeviceProtection  InternetService  MultipleLines  OnlineBackup  \\\n",
       "0               0.0              0.0            0.0           0.0   \n",
       "1               0.0              0.0            1.0           0.0   \n",
       "2               0.0              1.0            0.0           0.0   \n",
       "\n",
       "   OnlineSecurity  PaymentMethod  StreamingMovies  StreamingTV  TechSupport  \\\n",
       "0             0.0            0.0              0.0          0.0          0.0   \n",
       "1             0.0            0.0              0.0          0.0          0.0   \n",
       "2             0.0            0.0              0.0          0.0          0.0   \n",
       "\n",
       "   gender  \n",
       "0     1.0  \n",
       "1     0.0  \n",
       "2     0.0  \n",
       "\n",
       "[3 rows x 21 columns]"
      ]
     },
     "execution_count": 29,
     "metadata": {},
     "output_type": "execute_result"
    }
   ],
   "source": [
    "dfn.head(3)"
   ]
  },
  {
   "cell_type": "code",
   "execution_count": 30,
   "metadata": {},
   "outputs": [
    {
     "data": {
      "text/plain": [
       "customerID           object\n",
       "SeniorCitizen         int64\n",
       "Partner               int64\n",
       "Dependents            int64\n",
       "tenure                int64\n",
       "PhoneService          int64\n",
       "PaperlessBilling      int64\n",
       "MonthlyCharges      float64\n",
       "TotalCharges        float64\n",
       "Churn                 int64\n",
       "Contract            float64\n",
       "DeviceProtection    float64\n",
       "InternetService     float64\n",
       "MultipleLines       float64\n",
       "OnlineBackup        float64\n",
       "OnlineSecurity      float64\n",
       "PaymentMethod       float64\n",
       "StreamingMovies     float64\n",
       "StreamingTV         float64\n",
       "TechSupport         float64\n",
       "gender              float64\n",
       "dtype: object"
      ]
     },
     "execution_count": 30,
     "metadata": {},
     "output_type": "execute_result"
    }
   ],
   "source": [
    "dfn.dtypes"
   ]
  },
  {
   "cell_type": "code",
   "execution_count": 31,
   "metadata": {},
   "outputs": [],
   "source": [
    "# xs=['tenure','MonthlyCharges','TotalCharges']"
   ]
  },
  {
   "cell_type": "code",
   "execution_count": 32,
   "metadata": {},
   "outputs": [],
   "source": [
    "# from sklearn.preprocessing import StandardScaler\n",
    "# sd=StandardScaler()\n",
    "# x=sd.fit_transform(xs)\n",
    "# x=pd.DataFrame(x,columns=xs.columns)\n",
    "# x"
   ]
  },
  {
   "cell_type": "code",
   "execution_count": 33,
   "metadata": {},
   "outputs": [],
   "source": [
    "X=df.drop(['customerID','Churn'],axis=1)"
   ]
  },
  {
   "cell_type": "code",
   "execution_count": 34,
   "metadata": {},
   "outputs": [],
   "source": [
    "Y=df['Churn']"
   ]
  },
  {
   "cell_type": "markdown",
   "metadata": {},
   "source": [
    "# Model Generation"
   ]
  },
  {
   "cell_type": "code",
   "execution_count": 35,
   "metadata": {},
   "outputs": [],
   "source": [
    "from sklearn.model_selection import train_test_split\n",
    "from sklearn.metrics import accuracy_score,confusion_matrix,classification_report"
   ]
  },
  {
   "cell_type": "code",
   "execution_count": 36,
   "metadata": {},
   "outputs": [
    {
     "name": "stdout",
     "output_type": "stream",
     "text": [
      "Best accuracy is 0.8149550402271651 on Random State 1\n"
     ]
    }
   ],
   "source": [
    "from sklearn.linear_model import LogisticRegression\n",
    "maxAccu=0\n",
    "maxRS=0\n",
    "for i in range(1,200):\n",
    "    X_train,X_test,Y_train,Y_test=train_test_split(X,Y,test_size=.30,random_state=i)\n",
    "    lg=LogisticRegression()\n",
    "    lg.fit(X_train,Y_train)\n",
    "    pred=lg.predict(X_test)\n",
    "    acc=accuracy_score(Y_test,pred)\n",
    "    if acc>maxAccu:\n",
    "        maxAccu=acc\n",
    "        maxRS=1\n",
    "print(\"Best accuracy is\",maxAccu,\"on Random State\",maxRS)"
   ]
  },
  {
   "cell_type": "code",
   "execution_count": 37,
   "metadata": {},
   "outputs": [
    {
     "name": "stdout",
     "output_type": "stream",
     "text": [
      "[[1397  158]\n",
      " [ 285  273]]\n",
      "              precision    recall  f1-score   support\n",
      "\n",
      "           0       0.83      0.90      0.86      1555\n",
      "           1       0.63      0.49      0.55       558\n",
      "\n",
      "    accuracy                           0.79      2113\n",
      "   macro avg       0.73      0.69      0.71      2113\n",
      "weighted avg       0.78      0.79      0.78      2113\n",
      "\n"
     ]
    }
   ],
   "source": [
    "print(confusion_matrix(Y_test,pred))\n",
    "print(classification_report(Y_test,pred))"
   ]
  },
  {
   "cell_type": "code",
   "execution_count": 38,
   "metadata": {},
   "outputs": [
    {
     "name": "stdout",
     "output_type": "stream",
     "text": [
      "0.7823000473260767\n",
      "[[1413  172]\n",
      " [ 288  240]]\n",
      "              precision    recall  f1-score   support\n",
      "\n",
      "           0       0.83      0.89      0.86      1585\n",
      "           1       0.58      0.45      0.51       528\n",
      "\n",
      "    accuracy                           0.78      2113\n",
      "   macro avg       0.71      0.67      0.69      2113\n",
      "weighted avg       0.77      0.78      0.77      2113\n",
      "\n"
     ]
    }
   ],
   "source": [
    "X_train,X_test,Y_train,Y_test=train_test_split(X,Y,test_size=.30,random_state=1)\n",
    "from sklearn.ensemble import RandomForestClassifier\n",
    "rf=RandomForestClassifier()\n",
    "rf.fit(X_train,Y_train)\n",
    "pred=rf.predict(X_test)\n",
    "print(accuracy_score(Y_test,pred))\n",
    "print(confusion_matrix(Y_test,pred))\n",
    "print(classification_report(Y_test,pred))"
   ]
  },
  {
   "cell_type": "code",
   "execution_count": 39,
   "metadata": {},
   "outputs": [],
   "source": [
    "# from sklearn.svm import SVC\n",
    "# sv=SVC(kernel='linear')\n",
    "# sv.fit(X_train,Y_train)\n",
    "# pred=sv.predict(X_test)\n",
    "# print(accuracy_score(Y_test,pred))\n",
    "# print(confusion_matrix(Y_test,pred))\n",
    "# print(classification_report(Y_test,pred))"
   ]
  },
  {
   "cell_type": "code",
   "execution_count": 40,
   "metadata": {},
   "outputs": [
    {
     "name": "stdout",
     "output_type": "stream",
     "text": [
      "0.8064363464268812\n",
      "[[1434  151]\n",
      " [ 258  270]]\n",
      "              precision    recall  f1-score   support\n",
      "\n",
      "           0       0.85      0.90      0.88      1585\n",
      "           1       0.64      0.51      0.57       528\n",
      "\n",
      "    accuracy                           0.81      2113\n",
      "   macro avg       0.74      0.71      0.72      2113\n",
      "weighted avg       0.80      0.81      0.80      2113\n",
      "\n"
     ]
    }
   ],
   "source": [
    "from sklearn.ensemble import AdaBoostClassifier\n",
    "ad=AdaBoostClassifier()\n",
    "ad.fit(X_train,Y_train)\n",
    "pred=ad.predict(X_test)\n",
    "print(accuracy_score(Y_test,pred))\n",
    "print(confusion_matrix(Y_test,pred))\n",
    "print(classification_report(Y_test,pred))"
   ]
  },
  {
   "cell_type": "code",
   "execution_count": 41,
   "metadata": {},
   "outputs": [
    {
     "name": "stdout",
     "output_type": "stream",
     "text": [
      "0.7425461429247515\n",
      "[[1301  284]\n",
      " [ 260  268]]\n",
      "              precision    recall  f1-score   support\n",
      "\n",
      "           0       0.83      0.82      0.83      1585\n",
      "           1       0.49      0.51      0.50       528\n",
      "\n",
      "    accuracy                           0.74      2113\n",
      "   macro avg       0.66      0.66      0.66      2113\n",
      "weighted avg       0.75      0.74      0.74      2113\n",
      "\n"
     ]
    }
   ],
   "source": [
    "from sklearn.tree import DecisionTreeClassifier\n",
    "dtc=DecisionTreeClassifier()\n",
    "dtc.fit(X_train,Y_train)\n",
    "pred=dtc.predict(X_test)\n",
    "print(accuracy_score(Y_test,pred))\n",
    "print(confusion_matrix(Y_test,pred))\n",
    "print(classification_report(Y_test,pred))"
   ]
  },
  {
   "cell_type": "code",
   "execution_count": 43,
   "metadata": {},
   "outputs": [
    {
     "name": "stdout",
     "output_type": "stream",
     "text": [
      "0.7714150496923805\n",
      "[[1380  205]\n",
      " [ 278  250]]\n",
      "              precision    recall  f1-score   support\n",
      "\n",
      "           0       0.83      0.87      0.85      1585\n",
      "           1       0.55      0.47      0.51       528\n",
      "\n",
      "    accuracy                           0.77      2113\n",
      "   macro avg       0.69      0.67      0.68      2113\n",
      "weighted avg       0.76      0.77      0.77      2113\n",
      "\n"
     ]
    }
   ],
   "source": [
    "from sklearn.neighbors import KNeighborsClassifier\n",
    "knn=KNeighborsClassifier()\n",
    "knn.fit(X_train,Y_train)\n",
    "pred=knn.predict(X_test)\n",
    "print(accuracy_score(Y_test,pred))\n",
    "print(confusion_matrix(Y_test,pred))\n",
    "print(classification_report(Y_test,pred))"
   ]
  },
  {
   "cell_type": "markdown",
   "metadata": {},
   "source": [
    "# ROC_AUC"
   ]
  },
  {
   "cell_type": "code",
   "execution_count": 44,
   "metadata": {},
   "outputs": [],
   "source": [
    "from sklearn.metrics import roc_curve\n",
    "from sklearn.metrics import roc_auc_score"
   ]
  },
  {
   "cell_type": "code",
   "execution_count": 45,
   "metadata": {},
   "outputs": [
    {
     "data": {
      "text/plain": [
       "array([0.18063473, 0.16933279, 0.29799299, ..., 0.66767076, 0.03380751,\n",
       "       0.07720138])"
      ]
     },
     "execution_count": 45,
     "metadata": {},
     "output_type": "execute_result"
    }
   ],
   "source": [
    "y_pred_prob=lg.predict_proba(X_test)[:,1]\n",
    "y_pred_prob"
   ]
  },
  {
   "cell_type": "code",
   "execution_count": 46,
   "metadata": {},
   "outputs": [],
   "source": [
    "fpr,tpr,thresholds=roc_curve(Y_test,y_pred_prob)"
   ]
  },
  {
   "cell_type": "code",
   "execution_count": 47,
   "metadata": {},
   "outputs": [
    {
     "data": {
      "text/plain": [
       "array([0.00000000e+00, 0.00000000e+00, 0.00000000e+00, 6.30914826e-04,\n",
       "       6.30914826e-04, 1.26182965e-03, 1.26182965e-03, 1.89274448e-03,\n",
       "       1.89274448e-03, 2.52365931e-03, 2.52365931e-03, 3.15457413e-03,\n",
       "       3.15457413e-03, 4.41640379e-03, 4.41640379e-03, 5.04731861e-03,\n",
       "       5.04731861e-03, 5.67823344e-03, 5.67823344e-03, 7.57097792e-03,\n",
       "       7.57097792e-03, 8.20189274e-03, 8.20189274e-03, 8.83280757e-03,\n",
       "       8.83280757e-03, 9.46372240e-03, 9.46372240e-03, 1.00946372e-02,\n",
       "       1.00946372e-02, 1.07255521e-02, 1.07255521e-02, 1.26182965e-02,\n",
       "       1.26182965e-02, 1.32492114e-02, 1.32492114e-02, 1.38801262e-02,\n",
       "       1.38801262e-02, 1.45110410e-02, 1.45110410e-02, 1.51419558e-02,\n",
       "       1.51419558e-02, 1.64037855e-02, 1.64037855e-02, 1.70347003e-02,\n",
       "       1.70347003e-02, 1.89274448e-02, 1.89274448e-02, 1.95583596e-02,\n",
       "       1.95583596e-02, 2.01892744e-02, 2.01892744e-02, 2.08201893e-02,\n",
       "       2.08201893e-02, 2.14511041e-02, 2.14511041e-02, 2.20820189e-02,\n",
       "       2.20820189e-02, 2.27129338e-02, 2.27129338e-02, 2.33438486e-02,\n",
       "       2.33438486e-02, 2.46056782e-02, 2.46056782e-02, 2.52365931e-02,\n",
       "       2.52365931e-02, 2.58675079e-02, 2.58675079e-02, 2.64984227e-02,\n",
       "       2.64984227e-02, 2.71293375e-02, 2.71293375e-02, 2.83911672e-02,\n",
       "       2.83911672e-02, 2.90220820e-02, 2.90220820e-02, 2.96529968e-02,\n",
       "       2.96529968e-02, 3.02839117e-02, 3.02839117e-02, 3.09148265e-02,\n",
       "       3.09148265e-02, 3.15457413e-02, 3.15457413e-02, 3.21766562e-02,\n",
       "       3.21766562e-02, 3.34384858e-02, 3.34384858e-02, 3.34384858e-02,\n",
       "       3.40694006e-02, 3.40694006e-02, 3.53312303e-02, 3.53312303e-02,\n",
       "       3.59621451e-02, 3.59621451e-02, 3.78548896e-02, 3.78548896e-02,\n",
       "       3.91167192e-02, 3.91167192e-02, 4.03785489e-02, 4.03785489e-02,\n",
       "       4.10094637e-02, 4.10094637e-02, 4.16403785e-02, 4.16403785e-02,\n",
       "       4.22712934e-02, 4.22712934e-02, 4.35331230e-02, 4.35331230e-02,\n",
       "       4.41640379e-02, 4.41640379e-02, 4.60567823e-02, 4.60567823e-02,\n",
       "       4.66876972e-02, 4.66876972e-02, 4.73186120e-02, 4.73186120e-02,\n",
       "       4.92113565e-02, 4.92113565e-02, 4.98422713e-02, 4.98422713e-02,\n",
       "       5.11041009e-02, 5.11041009e-02, 5.29968454e-02, 5.29968454e-02,\n",
       "       5.42586751e-02, 5.42586751e-02, 5.48895899e-02, 5.48895899e-02,\n",
       "       5.55205047e-02, 5.55205047e-02, 5.61514196e-02, 5.61514196e-02,\n",
       "       5.67823344e-02, 5.67823344e-02, 5.74132492e-02, 5.74132492e-02,\n",
       "       5.86750789e-02, 5.86750789e-02, 5.93059937e-02, 5.93059937e-02,\n",
       "       5.99369085e-02, 5.99369085e-02, 6.05678233e-02, 6.05678233e-02,\n",
       "       6.24605678e-02, 6.24605678e-02, 6.30914826e-02, 6.30914826e-02,\n",
       "       6.43533123e-02, 6.43533123e-02, 6.68769716e-02, 6.68769716e-02,\n",
       "       6.75078864e-02, 6.75078864e-02, 6.81388013e-02, 6.81388013e-02,\n",
       "       6.87697161e-02, 6.87697161e-02, 7.00315457e-02, 7.00315457e-02,\n",
       "       7.38170347e-02, 7.38170347e-02, 7.50788644e-02, 7.50788644e-02,\n",
       "       7.63406940e-02, 7.63406940e-02, 7.82334385e-02, 7.82334385e-02,\n",
       "       7.88643533e-02, 7.88643533e-02, 7.94952681e-02, 7.94952681e-02,\n",
       "       8.20189274e-02, 8.20189274e-02, 8.26498423e-02, 8.26498423e-02,\n",
       "       8.39116719e-02, 8.39116719e-02, 8.51735016e-02, 8.51735016e-02,\n",
       "       8.64353312e-02, 8.70662461e-02, 8.89589905e-02, 8.89589905e-02,\n",
       "       8.95899054e-02, 8.95899054e-02, 9.08517350e-02, 9.08517350e-02,\n",
       "       9.21135647e-02, 9.27444795e-02, 9.52681388e-02, 9.52681388e-02,\n",
       "       9.65299685e-02, 9.71608833e-02, 9.71608833e-02, 9.77917981e-02,\n",
       "       9.77917981e-02, 1.00315457e-01, 1.00315457e-01, 1.02208202e-01,\n",
       "       1.02208202e-01, 1.02839117e-01, 1.02839117e-01, 1.04731861e-01,\n",
       "       1.04731861e-01, 1.05993691e-01, 1.05993691e-01, 1.07255521e-01,\n",
       "       1.07255521e-01, 1.08517350e-01, 1.08517350e-01, 1.10410095e-01,\n",
       "       1.10410095e-01, 1.11041009e-01, 1.11041009e-01, 1.12933754e-01,\n",
       "       1.12933754e-01, 1.14195584e-01, 1.14195584e-01, 1.16719243e-01,\n",
       "       1.16719243e-01, 1.17981073e-01, 1.17981073e-01, 1.18611987e-01,\n",
       "       1.18611987e-01, 1.19873817e-01, 1.19873817e-01, 1.21135647e-01,\n",
       "       1.21135647e-01, 1.21766562e-01, 1.21766562e-01, 1.22397476e-01,\n",
       "       1.22397476e-01, 1.24290221e-01, 1.24290221e-01, 1.26813880e-01,\n",
       "       1.26813880e-01, 1.27444795e-01, 1.27444795e-01, 1.29337539e-01,\n",
       "       1.29337539e-01, 1.31861199e-01, 1.31861199e-01, 1.33753943e-01,\n",
       "       1.33753943e-01, 1.36277603e-01, 1.36277603e-01, 1.39432177e-01,\n",
       "       1.39432177e-01, 1.40063091e-01, 1.40063091e-01, 1.40694006e-01,\n",
       "       1.40694006e-01, 1.43217666e-01, 1.43217666e-01, 1.43848580e-01,\n",
       "       1.43848580e-01, 1.47003155e-01, 1.47003155e-01, 1.48264984e-01,\n",
       "       1.48264984e-01, 1.49526814e-01, 1.49526814e-01, 1.52681388e-01,\n",
       "       1.52681388e-01, 1.53312303e-01, 1.53312303e-01, 1.55205047e-01,\n",
       "       1.55205047e-01, 1.57728707e-01, 1.57728707e-01, 1.58990536e-01,\n",
       "       1.58990536e-01, 1.61514196e-01, 1.61514196e-01, 1.62145110e-01,\n",
       "       1.62145110e-01, 1.64037855e-01, 1.64037855e-01, 1.66561514e-01,\n",
       "       1.66561514e-01, 1.67192429e-01, 1.67192429e-01, 1.67823344e-01,\n",
       "       1.67823344e-01, 1.68454259e-01, 1.68454259e-01, 1.69716088e-01,\n",
       "       1.69716088e-01, 1.71608833e-01, 1.71608833e-01, 1.72870662e-01,\n",
       "       1.72870662e-01, 1.74763407e-01, 1.74763407e-01, 1.82965300e-01,\n",
       "       1.82965300e-01, 1.84227129e-01, 1.84227129e-01, 1.87381703e-01,\n",
       "       1.87381703e-01, 1.90536278e-01, 1.90536278e-01, 1.91798107e-01,\n",
       "       1.91798107e-01, 1.92429022e-01, 1.92429022e-01, 1.97476341e-01,\n",
       "       1.97476341e-01, 1.98107256e-01, 1.98107256e-01, 1.98738170e-01,\n",
       "       1.98738170e-01, 2.00000000e-01, 2.00000000e-01, 2.01261830e-01,\n",
       "       2.01261830e-01, 2.03154574e-01, 2.03154574e-01, 2.05047319e-01,\n",
       "       2.05047319e-01, 2.06940063e-01, 2.06940063e-01, 2.07570978e-01,\n",
       "       2.07570978e-01, 2.08832808e-01, 2.08832808e-01, 2.12618297e-01,\n",
       "       2.12618297e-01, 2.13249211e-01, 2.13249211e-01, 2.17665615e-01,\n",
       "       2.17665615e-01, 2.19558360e-01, 2.19558360e-01, 2.20820189e-01,\n",
       "       2.20820189e-01, 2.21451104e-01, 2.21451104e-01, 2.22712934e-01,\n",
       "       2.22712934e-01, 2.27129338e-01, 2.27129338e-01, 2.29022082e-01,\n",
       "       2.29022082e-01, 2.30283912e-01, 2.30283912e-01, 2.32176656e-01,\n",
       "       2.32176656e-01, 2.35331230e-01, 2.35331230e-01, 2.36593060e-01,\n",
       "       2.36593060e-01, 2.40378549e-01, 2.40378549e-01, 2.42271293e-01,\n",
       "       2.42271293e-01, 2.43533123e-01, 2.43533123e-01, 2.44164038e-01,\n",
       "       2.44164038e-01, 2.46687697e-01, 2.46687697e-01, 2.47318612e-01,\n",
       "       2.47318612e-01, 2.48580442e-01, 2.48580442e-01, 2.50473186e-01,\n",
       "       2.50473186e-01, 2.63091483e-01, 2.63091483e-01, 2.64353312e-01,\n",
       "       2.64353312e-01, 2.67507886e-01, 2.67507886e-01, 2.68138801e-01,\n",
       "       2.68138801e-01, 2.84542587e-01, 2.84542587e-01, 2.86435331e-01,\n",
       "       2.86435331e-01, 2.87066246e-01, 2.87066246e-01, 2.88328076e-01,\n",
       "       2.88328076e-01, 2.88958991e-01, 2.88958991e-01, 2.89589905e-01,\n",
       "       2.89589905e-01, 3.01577287e-01, 3.01577287e-01, 3.02839117e-01,\n",
       "       3.02839117e-01, 3.04731861e-01, 3.04731861e-01, 3.09148265e-01,\n",
       "       3.09148265e-01, 3.16088328e-01, 3.16088328e-01, 3.16719243e-01,\n",
       "       3.16719243e-01, 3.17350158e-01, 3.17350158e-01, 3.17981073e-01,\n",
       "       3.17981073e-01, 3.19242902e-01, 3.19242902e-01, 3.19873817e-01,\n",
       "       3.19873817e-01, 3.21766562e-01, 3.21766562e-01, 3.29968454e-01,\n",
       "       3.29968454e-01, 3.33123028e-01, 3.33123028e-01, 3.33753943e-01,\n",
       "       3.36908517e-01, 3.36908517e-01, 3.38801262e-01, 3.40063091e-01,\n",
       "       3.40694006e-01, 3.42586751e-01, 3.42586751e-01, 3.43848580e-01,\n",
       "       3.45741325e-01, 3.47003155e-01, 3.47634069e-01, 3.48895899e-01,\n",
       "       3.51419558e-01, 3.51419558e-01, 3.52681388e-01, 3.52681388e-01,\n",
       "       3.53943218e-01, 3.53943218e-01, 3.55205047e-01, 3.55205047e-01,\n",
       "       3.60883281e-01, 3.60883281e-01, 3.64668770e-01, 3.64668770e-01,\n",
       "       3.69716088e-01, 3.69716088e-01, 3.81072555e-01, 3.81072555e-01,\n",
       "       3.91798107e-01, 3.91798107e-01, 3.93690852e-01, 3.93690852e-01,\n",
       "       3.94952681e-01, 3.94952681e-01, 4.00630915e-01, 4.00630915e-01,\n",
       "       4.03154574e-01, 4.03154574e-01, 4.04416404e-01, 4.04416404e-01,\n",
       "       4.05047319e-01, 4.05047319e-01, 4.05678233e-01, 4.05678233e-01,\n",
       "       4.08832808e-01, 4.08832808e-01, 4.10094637e-01, 4.10094637e-01,\n",
       "       4.10725552e-01, 4.10725552e-01, 4.19558360e-01, 4.20189274e-01,\n",
       "       4.26498423e-01, 4.26498423e-01, 4.27760252e-01, 4.27760252e-01,\n",
       "       4.32176656e-01, 4.32176656e-01, 4.33438486e-01, 4.33438486e-01,\n",
       "       4.35331230e-01, 4.35331230e-01, 4.44794953e-01, 4.44794953e-01,\n",
       "       4.45425868e-01, 4.45425868e-01, 4.47318612e-01, 4.47318612e-01,\n",
       "       4.49211356e-01, 4.49211356e-01, 4.49842271e-01, 4.49842271e-01,\n",
       "       4.52365931e-01, 4.52365931e-01, 4.53627760e-01, 4.53627760e-01,\n",
       "       4.64984227e-01, 4.64984227e-01, 4.68138801e-01, 4.68138801e-01,\n",
       "       4.73817035e-01, 4.73817035e-01, 4.75078864e-01, 4.75078864e-01,\n",
       "       4.78864353e-01, 4.78864353e-01, 4.80126183e-01, 4.80126183e-01,\n",
       "       4.88958991e-01, 4.88958991e-01, 4.90851735e-01, 4.90851735e-01,\n",
       "       5.14826498e-01, 5.14826498e-01, 5.22397476e-01, 5.22397476e-01,\n",
       "       5.36908517e-01, 5.36908517e-01, 5.40694006e-01, 5.40694006e-01,\n",
       "       5.45110410e-01, 5.45110410e-01, 5.50157729e-01, 5.50157729e-01,\n",
       "       5.52050473e-01, 5.52050473e-01, 5.59621451e-01, 5.59621451e-01,\n",
       "       5.72239748e-01, 5.72239748e-01, 5.76025237e-01, 5.76025237e-01,\n",
       "       5.79179811e-01, 5.79179811e-01, 5.83596215e-01, 5.83596215e-01,\n",
       "       5.88643533e-01, 5.88643533e-01, 5.93690852e-01, 5.93690852e-01,\n",
       "       5.94952681e-01, 5.94952681e-01, 6.03785489e-01, 6.03785489e-01,\n",
       "       6.09463722e-01, 6.09463722e-01, 6.10725552e-01, 6.10725552e-01,\n",
       "       6.12618297e-01, 6.12618297e-01, 6.16403785e-01, 6.16403785e-01,\n",
       "       6.17665615e-01, 6.17665615e-01, 6.20820189e-01, 6.20820189e-01,\n",
       "       6.48580442e-01, 6.48580442e-01, 6.64353312e-01, 6.64353312e-01,\n",
       "       6.65615142e-01, 6.65615142e-01, 6.87066246e-01, 6.87066246e-01,\n",
       "       7.16088328e-01, 7.16088328e-01, 7.55205047e-01, 7.55205047e-01,\n",
       "       7.65299685e-01, 7.65299685e-01, 7.75394322e-01, 7.75394322e-01,\n",
       "       7.82334385e-01, 7.82334385e-01, 7.82965300e-01, 7.82965300e-01,\n",
       "       7.88643533e-01, 7.88643533e-01, 8.03154574e-01, 8.03154574e-01,\n",
       "       8.16403785e-01, 8.16403785e-01, 8.83280757e-01, 8.83280757e-01,\n",
       "       9.35646688e-01, 9.35646688e-01, 9.52050473e-01, 9.52050473e-01,\n",
       "       1.00000000e+00])"
      ]
     },
     "execution_count": 47,
     "metadata": {},
     "output_type": "execute_result"
    }
   ],
   "source": [
    "fpr"
   ]
  },
  {
   "cell_type": "code",
   "execution_count": 48,
   "metadata": {},
   "outputs": [
    {
     "data": {
      "text/plain": [
       "array([0.        , 0.00189394, 0.02272727, 0.02272727, 0.03219697,\n",
       "       0.03219697, 0.04545455, 0.04545455, 0.06628788, 0.06628788,\n",
       "       0.07765152, 0.07765152, 0.08143939, 0.08143939, 0.08712121,\n",
       "       0.08712121, 0.09848485, 0.09848485, 0.10037879, 0.10037879,\n",
       "       0.10606061, 0.10606061, 0.10795455, 0.10795455, 0.11174242,\n",
       "       0.11174242, 0.13257576, 0.13257576, 0.13825758, 0.13825758,\n",
       "       0.14962121, 0.14962121, 0.15530303, 0.15530303, 0.16477273,\n",
       "       0.16477273, 0.17045455, 0.17045455, 0.1780303 , 0.1780303 ,\n",
       "       0.1875    , 0.1875    , 0.19318182, 0.19318182, 0.20265152,\n",
       "       0.20265152, 0.20454545, 0.20454545, 0.20833333, 0.20833333,\n",
       "       0.21022727, 0.21022727, 0.21212121, 0.21212121, 0.21590909,\n",
       "       0.21590909, 0.22159091, 0.22159091, 0.23484848, 0.23484848,\n",
       "       0.23863636, 0.23863636, 0.24242424, 0.24242424, 0.25      ,\n",
       "       0.25      , 0.26893939, 0.26893939, 0.27272727, 0.27272727,\n",
       "       0.27840909, 0.27840909, 0.28030303, 0.28030303, 0.28219697,\n",
       "       0.28219697, 0.28409091, 0.28409091, 0.29356061, 0.29356061,\n",
       "       0.29545455, 0.29734848, 0.29924242, 0.29924242, 0.30681818,\n",
       "       0.30681818, 0.31060606, 0.3125    , 0.3125    , 0.31628788,\n",
       "       0.31628788, 0.31818182, 0.31818182, 0.32575758, 0.32575758,\n",
       "       0.32765152, 0.32765152, 0.33333333, 0.33333333, 0.33901515,\n",
       "       0.33901515, 0.34469697, 0.34469697, 0.34659091, 0.34659091,\n",
       "       0.35037879, 0.35037879, 0.35227273, 0.35227273, 0.35795455,\n",
       "       0.35795455, 0.35984848, 0.35984848, 0.36363636, 0.36363636,\n",
       "       0.3655303 , 0.3655303 , 0.37689394, 0.37689394, 0.38636364,\n",
       "       0.38636364, 0.39015152, 0.39015152, 0.39393939, 0.39393939,\n",
       "       0.39583333, 0.39583333, 0.40151515, 0.40151515, 0.40530303,\n",
       "       0.40530303, 0.41287879, 0.41287879, 0.41666667, 0.41666667,\n",
       "       0.42424242, 0.42424242, 0.43181818, 0.43181818, 0.44507576,\n",
       "       0.44507576, 0.4469697 , 0.4469697 , 0.44886364, 0.44886364,\n",
       "       0.45454545, 0.45454545, 0.45833333, 0.45833333, 0.46022727,\n",
       "       0.46022727, 0.46212121, 0.46212121, 0.46401515, 0.46401515,\n",
       "       0.46590909, 0.46590909, 0.46969697, 0.46969697, 0.47348485,\n",
       "       0.47348485, 0.47537879, 0.47537879, 0.47727273, 0.47727273,\n",
       "       0.48295455, 0.48295455, 0.4905303 , 0.4905303 , 0.49242424,\n",
       "       0.49242424, 0.49810606, 0.49810606, 0.50189394, 0.50189394,\n",
       "       0.50757576, 0.50757576, 0.51136364, 0.51136364, 0.51515152,\n",
       "       0.51515152, 0.51704545, 0.51704545, 0.51893939, 0.51893939,\n",
       "       0.52272727, 0.52272727, 0.52462121, 0.52462121, 0.52651515,\n",
       "       0.52651515, 0.52840909, 0.52840909, 0.52840909, 0.53030303,\n",
       "       0.53030303, 0.53219697, 0.53219697, 0.53409091, 0.53409091,\n",
       "       0.53598485, 0.53598485, 0.53787879, 0.53787879, 0.54356061,\n",
       "       0.54356061, 0.54545455, 0.54545455, 0.54924242, 0.54924242,\n",
       "       0.55113636, 0.55113636, 0.5530303 , 0.5530303 , 0.55681818,\n",
       "       0.55681818, 0.55871212, 0.55871212, 0.5719697 , 0.5719697 ,\n",
       "       0.57386364, 0.57386364, 0.57575758, 0.57575758, 0.57765152,\n",
       "       0.57765152, 0.57954545, 0.57954545, 0.58143939, 0.58143939,\n",
       "       0.58333333, 0.58333333, 0.58712121, 0.58712121, 0.58901515,\n",
       "       0.58901515, 0.60227273, 0.60227273, 0.60416667, 0.60416667,\n",
       "       0.60606061, 0.60606061, 0.60795455, 0.60795455, 0.60984848,\n",
       "       0.60984848, 0.61174242, 0.61174242, 0.6155303 , 0.6155303 ,\n",
       "       0.61742424, 0.61742424, 0.61931818, 0.61931818, 0.62121212,\n",
       "       0.62121212, 0.62310606, 0.62310606, 0.625     , 0.625     ,\n",
       "       0.62689394, 0.62689394, 0.62878788, 0.62878788, 0.63068182,\n",
       "       0.63068182, 0.63257576, 0.63257576, 0.63636364, 0.63636364,\n",
       "       0.64015152, 0.64015152, 0.64393939, 0.64393939, 0.64583333,\n",
       "       0.64583333, 0.64962121, 0.64962121, 0.65151515, 0.65151515,\n",
       "       0.65719697, 0.65719697, 0.66098485, 0.66098485, 0.66287879,\n",
       "       0.66287879, 0.66477273, 0.66477273, 0.66666667, 0.66666667,\n",
       "       0.66856061, 0.66856061, 0.67234848, 0.67234848, 0.67424242,\n",
       "       0.67424242, 0.67613636, 0.67613636, 0.6780303 , 0.6780303 ,\n",
       "       0.67992424, 0.67992424, 0.68181818, 0.68181818, 0.68371212,\n",
       "       0.68371212, 0.68939394, 0.68939394, 0.69128788, 0.69128788,\n",
       "       0.69507576, 0.69507576, 0.69886364, 0.69886364, 0.70265152,\n",
       "       0.70265152, 0.70454545, 0.70454545, 0.70833333, 0.70833333,\n",
       "       0.71022727, 0.71022727, 0.71212121, 0.71401515, 0.71590909,\n",
       "       0.71590909, 0.71969697, 0.71969697, 0.72159091, 0.72159091,\n",
       "       0.72348485, 0.72348485, 0.72537879, 0.72537879, 0.73106061,\n",
       "       0.73106061, 0.73484848, 0.73484848, 0.73863636, 0.73863636,\n",
       "       0.74242424, 0.74242424, 0.74431818, 0.74431818, 0.74621212,\n",
       "       0.74621212, 0.74810606, 0.74810606, 0.75      , 0.75      ,\n",
       "       0.75378788, 0.75378788, 0.75568182, 0.75568182, 0.75757576,\n",
       "       0.75757576, 0.7594697 , 0.7594697 , 0.76136364, 0.76136364,\n",
       "       0.76325758, 0.76325758, 0.76704545, 0.76704545, 0.76893939,\n",
       "       0.76893939, 0.77272727, 0.77272727, 0.77462121, 0.77462121,\n",
       "       0.77651515, 0.77651515, 0.77840909, 0.77840909, 0.78030303,\n",
       "       0.78030303, 0.78219697, 0.78219697, 0.78598485, 0.78598485,\n",
       "       0.78787879, 0.78787879, 0.78977273, 0.78977273, 0.79166667,\n",
       "       0.79166667, 0.79356061, 0.79356061, 0.79545455, 0.79545455,\n",
       "       0.79924242, 0.79924242, 0.80113636, 0.80113636, 0.8030303 ,\n",
       "       0.8030303 , 0.80492424, 0.80492424, 0.80681818, 0.80681818,\n",
       "       0.80871212, 0.80871212, 0.81060606, 0.81060606, 0.81439394,\n",
       "       0.81439394, 0.81628788, 0.81628788, 0.81818182, 0.81818182,\n",
       "       0.82007576, 0.82007576, 0.8219697 , 0.8219697 , 0.82386364,\n",
       "       0.82575758, 0.82575758, 0.82765152, 0.82765152, 0.82954545,\n",
       "       0.83143939, 0.83143939, 0.83333333, 0.83522727, 0.83522727,\n",
       "       0.83522727, 0.83522727, 0.83901515, 0.83901515, 0.84090909,\n",
       "       0.84090909, 0.84280303, 0.84280303, 0.84469697, 0.84469697,\n",
       "       0.84659091, 0.84659091, 0.84848485, 0.84848485, 0.85037879,\n",
       "       0.85037879, 0.85227273, 0.85227273, 0.85416667, 0.85416667,\n",
       "       0.85606061, 0.85606061, 0.85795455, 0.85795455, 0.85984848,\n",
       "       0.85984848, 0.86174242, 0.86174242, 0.86363636, 0.86363636,\n",
       "       0.86742424, 0.86742424, 0.86931818, 0.86931818, 0.87121212,\n",
       "       0.87121212, 0.87310606, 0.87310606, 0.87689394, 0.87689394,\n",
       "       0.87878788, 0.87878788, 0.88068182, 0.88068182, 0.8844697 ,\n",
       "       0.8844697 , 0.88636364, 0.88636364, 0.89015152, 0.89015152,\n",
       "       0.89204545, 0.89204545, 0.89393939, 0.89393939, 0.89583333,\n",
       "       0.89583333, 0.89772727, 0.89772727, 0.89962121, 0.89962121,\n",
       "       0.90151515, 0.90151515, 0.90340909, 0.90340909, 0.90530303,\n",
       "       0.90530303, 0.90719697, 0.90719697, 0.90909091, 0.90909091,\n",
       "       0.91098485, 0.91098485, 0.91287879, 0.91287879, 0.91477273,\n",
       "       0.91477273, 0.91666667, 0.91666667, 0.92045455, 0.92045455,\n",
       "       0.92234848, 0.92234848, 0.92424242, 0.92424242, 0.92613636,\n",
       "       0.92613636, 0.92992424, 0.92992424, 0.93181818, 0.93181818,\n",
       "       0.93371212, 0.93371212, 0.93560606, 0.93560606, 0.9375    ,\n",
       "       0.9375    , 0.93939394, 0.93939394, 0.94128788, 0.94128788,\n",
       "       0.94318182, 0.94318182, 0.94507576, 0.94507576, 0.9469697 ,\n",
       "       0.9469697 , 0.94886364, 0.94886364, 0.95075758, 0.95075758,\n",
       "       0.95265152, 0.95265152, 0.95454545, 0.95454545, 0.95643939,\n",
       "       0.95643939, 0.95833333, 0.95833333, 0.96022727, 0.96022727,\n",
       "       0.96212121, 0.96212121, 0.96401515, 0.96401515, 0.96590909,\n",
       "       0.96590909, 0.96969697, 0.96969697, 0.97159091, 0.97159091,\n",
       "       0.97348485, 0.97348485, 0.97537879, 0.97537879, 0.97727273,\n",
       "       0.97727273, 0.97916667, 0.97916667, 0.98106061, 0.98106061,\n",
       "       0.98295455, 0.98295455, 0.98484848, 0.98484848, 0.98674242,\n",
       "       0.98674242, 0.98863636, 0.98863636, 0.9905303 , 0.9905303 ,\n",
       "       0.99242424, 0.99242424, 0.99431818, 0.99431818, 0.99621212,\n",
       "       0.99621212, 0.99810606, 0.99810606, 1.        , 1.        ])"
      ]
     },
     "execution_count": 48,
     "metadata": {},
     "output_type": "execute_result"
    }
   ],
   "source": [
    "tpr"
   ]
  },
  {
   "cell_type": "code",
   "execution_count": 50,
   "metadata": {},
   "outputs": [
    {
     "data": {
      "text/plain": [
       "array([1.85374416e+00, 8.53744162e-01, 8.14912184e-01, 8.08770369e-01,\n",
       "       8.00695659e-01, 7.99327519e-01, 7.89927872e-01, 7.89497482e-01,\n",
       "       7.76554872e-01, 7.73189406e-01, 7.65362903e-01, 7.62764607e-01,\n",
       "       7.62521537e-01, 7.61944652e-01, 7.59082868e-01, 7.57077089e-01,\n",
       "       7.49789762e-01, 7.49522105e-01, 7.48158715e-01, 7.45538344e-01,\n",
       "       7.41851762e-01, 7.41833251e-01, 7.41528112e-01, 7.36728622e-01,\n",
       "       7.34659788e-01, 7.34620534e-01, 7.25761668e-01, 7.25561052e-01,\n",
       "       7.23435454e-01, 7.22687951e-01, 7.21046706e-01, 7.17442627e-01,\n",
       "       7.12927355e-01, 7.11615665e-01, 7.03684409e-01, 7.03278473e-01,\n",
       "       6.97811876e-01, 6.97100656e-01, 6.92862402e-01, 6.91744222e-01,\n",
       "       6.88264201e-01, 6.86211211e-01, 6.83370119e-01, 6.82809340e-01,\n",
       "       6.76007533e-01, 6.73545281e-01, 6.73473947e-01, 6.72779033e-01,\n",
       "       6.72464319e-01, 6.72264252e-01, 6.71711597e-01, 6.70077467e-01,\n",
       "       6.70056531e-01, 6.69941320e-01, 6.67670757e-01, 6.66850793e-01,\n",
       "       6.64232690e-01, 6.64164139e-01, 6.59728672e-01, 6.59552758e-01,\n",
       "       6.57641077e-01, 6.56371691e-01, 6.55801665e-01, 6.55433167e-01,\n",
       "       6.54757799e-01, 6.52049118e-01, 6.46794989e-01, 6.46624894e-01,\n",
       "       6.45500807e-01, 6.44950461e-01, 6.42285066e-01, 6.39264775e-01,\n",
       "       6.39058542e-01, 6.38477338e-01, 6.38465560e-01, 6.38066315e-01,\n",
       "       6.37716562e-01, 6.37533882e-01, 6.34299353e-01, 6.33676575e-01,\n",
       "       6.31091612e-01, 6.28678409e-01, 6.28365095e-01, 6.27499222e-01,\n",
       "       6.26685117e-01, 6.26391930e-01, 6.25226049e-01, 6.24282265e-01,\n",
       "       6.24232557e-01, 6.22029809e-01, 6.21406970e-01, 6.21125873e-01,\n",
       "       6.20610349e-01, 6.18009897e-01, 6.15438337e-01, 6.15330127e-01,\n",
       "       6.14098079e-01, 6.12128076e-01, 6.11185758e-01, 6.09433589e-01,\n",
       "       6.09384825e-01, 6.07899066e-01, 6.06474518e-01, 6.06020897e-01,\n",
       "       6.04649507e-01, 6.04059360e-01, 6.03602454e-01, 6.03021859e-01,\n",
       "       6.02932318e-01, 6.01913155e-01, 6.00797897e-01, 5.99999401e-01,\n",
       "       5.99877892e-01, 5.98654196e-01, 5.98313774e-01, 5.97891251e-01,\n",
       "       5.96208063e-01, 5.90340052e-01, 5.89941113e-01, 5.84062936e-01,\n",
       "       5.83147112e-01, 5.81619192e-01, 5.79508996e-01, 5.78991049e-01,\n",
       "       5.78131615e-01, 5.76920326e-01, 5.76631119e-01, 5.74533825e-01,\n",
       "       5.73267308e-01, 5.72189098e-01, 5.71973665e-01, 5.70627890e-01,\n",
       "       5.70292741e-01, 5.69380015e-01, 5.69325879e-01, 5.67908809e-01,\n",
       "       5.67482498e-01, 5.65834744e-01, 5.65181957e-01, 5.60970467e-01,\n",
       "       5.60392298e-01, 5.60217580e-01, 5.58584870e-01, 5.57981993e-01,\n",
       "       5.56452102e-01, 5.53323920e-01, 5.53177680e-01, 5.52278857e-01,\n",
       "       5.49766309e-01, 5.48989300e-01, 5.47367206e-01, 5.47241230e-01,\n",
       "       5.47147876e-01, 5.47136754e-01, 5.47051851e-01, 5.46701170e-01,\n",
       "       5.46074885e-01, 5.44325965e-01, 5.42184591e-01, 5.41871390e-01,\n",
       "       5.37824592e-01, 5.37758295e-01, 5.36494935e-01, 5.35597793e-01,\n",
       "       5.35095570e-01, 5.33928617e-01, 5.33147334e-01, 5.30837630e-01,\n",
       "       5.30593773e-01, 5.29186961e-01, 5.27969610e-01, 5.27151361e-01,\n",
       "       5.23540555e-01, 5.23107793e-01, 5.22810278e-01, 5.20811935e-01,\n",
       "       5.16834537e-01, 5.15357720e-01, 5.13338054e-01, 5.12875017e-01,\n",
       "       5.11989075e-01, 5.11610189e-01, 5.09178837e-01, 5.07583093e-01,\n",
       "       5.07362488e-01, 5.05850119e-01, 5.03613221e-01, 5.03484363e-01,\n",
       "       5.03204198e-01, 5.03148898e-01, 4.99755822e-01, 4.99747447e-01,\n",
       "       4.99123179e-01, 4.99007414e-01, 4.98951025e-01, 4.98419367e-01,\n",
       "       4.97866015e-01, 4.94647010e-01, 4.93814836e-01, 4.93319831e-01,\n",
       "       4.93036905e-01, 4.91497090e-01, 4.90546190e-01, 4.88725205e-01,\n",
       "       4.87840144e-01, 4.87030185e-01, 4.86651552e-01, 4.83708527e-01,\n",
       "       4.80879776e-01, 4.80370558e-01, 4.80249171e-01, 4.79503419e-01,\n",
       "       4.78518895e-01, 4.78241458e-01, 4.77285140e-01, 4.76620512e-01,\n",
       "       4.76374349e-01, 4.72948386e-01, 4.68969894e-01, 4.66594174e-01,\n",
       "       4.66291456e-01, 4.65463802e-01, 4.64961727e-01, 4.64928112e-01,\n",
       "       4.64655775e-01, 4.63960371e-01, 4.63895176e-01, 4.62959306e-01,\n",
       "       4.62715852e-01, 4.62294113e-01, 4.62159106e-01, 4.61625019e-01,\n",
       "       4.60958080e-01, 4.59212899e-01, 4.58958111e-01, 4.56688736e-01,\n",
       "       4.50639850e-01, 4.49755514e-01, 4.49470019e-01, 4.48646094e-01,\n",
       "       4.48312588e-01, 4.47202604e-01, 4.47158662e-01, 4.45174689e-01,\n",
       "       4.44552442e-01, 4.43100132e-01, 4.41186868e-01, 4.39047225e-01,\n",
       "       4.38639285e-01, 4.38155090e-01, 4.38125425e-01, 4.37645000e-01,\n",
       "       4.37451786e-01, 4.34142684e-01, 4.33755433e-01, 4.33228788e-01,\n",
       "       4.32946089e-01, 4.29849201e-01, 4.29804875e-01, 4.28495013e-01,\n",
       "       4.27915998e-01, 4.25704978e-01, 4.25201121e-01, 4.21711008e-01,\n",
       "       4.20988439e-01, 4.20678660e-01, 4.20367013e-01, 4.17604046e-01,\n",
       "       4.17227084e-01, 4.15679308e-01, 4.14477708e-01, 4.13779862e-01,\n",
       "       4.13056133e-01, 4.10932466e-01, 4.10122768e-01, 4.09915523e-01,\n",
       "       4.08445363e-01, 4.08326419e-01, 4.08279046e-01, 4.06241314e-01,\n",
       "       4.05132241e-01, 4.04860197e-01, 4.03697046e-01, 4.02885738e-01,\n",
       "       4.00903161e-01, 4.00571253e-01, 4.00569131e-01, 4.00384114e-01,\n",
       "       4.00333530e-01, 3.98117924e-01, 3.97879648e-01, 3.97063528e-01,\n",
       "       3.95766521e-01, 3.93530698e-01, 3.93387753e-01, 3.80403047e-01,\n",
       "       3.80021758e-01, 3.77308141e-01, 3.77249011e-01, 3.74326215e-01,\n",
       "       3.73923603e-01, 3.73087874e-01, 3.72889672e-01, 3.72128760e-01,\n",
       "       3.70899854e-01, 3.69372548e-01, 3.65828348e-01, 3.60116134e-01,\n",
       "       3.58200446e-01, 3.57585785e-01, 3.57474063e-01, 3.57428751e-01,\n",
       "       3.56273735e-01, 3.54618142e-01, 3.49976273e-01, 3.49523681e-01,\n",
       "       3.49230356e-01, 3.46514260e-01, 3.45075089e-01, 3.44615345e-01,\n",
       "       3.44595085e-01, 3.44390266e-01, 3.44093409e-01, 3.43895573e-01,\n",
       "       3.43672720e-01, 3.42287297e-01, 3.41695104e-01, 3.39286964e-01,\n",
       "       3.39002055e-01, 3.38766810e-01, 3.38738151e-01, 3.35182169e-01,\n",
       "       3.35114237e-01, 3.32505736e-01, 3.29700332e-01, 3.25047777e-01,\n",
       "       3.24932290e-01, 3.24319887e-01, 3.23483981e-01, 3.23299442e-01,\n",
       "       3.21492168e-01, 3.19725883e-01, 3.18746110e-01, 3.15680699e-01,\n",
       "       3.15347313e-01, 3.13792944e-01, 3.13287062e-01, 3.12278867e-01,\n",
       "       3.11110438e-01, 3.09072793e-01, 3.08462367e-01, 3.08366073e-01,\n",
       "       3.07890162e-01, 3.05213912e-01, 3.05038008e-01, 3.04440599e-01,\n",
       "       3.04414084e-01, 3.03901306e-01, 3.03385382e-01, 3.03166542e-01,\n",
       "       3.03051307e-01, 3.01453306e-01, 2.99972751e-01, 2.98971713e-01,\n",
       "       2.98774183e-01, 2.97882408e-01, 2.95674007e-01, 2.94593705e-01,\n",
       "       2.94560876e-01, 2.78970535e-01, 2.78466463e-01, 2.77681613e-01,\n",
       "       2.77341169e-01, 2.73166257e-01, 2.73079205e-01, 2.72803549e-01,\n",
       "       2.72249531e-01, 2.62418012e-01, 2.61974851e-01, 2.60669339e-01,\n",
       "       2.59992789e-01, 2.59245880e-01, 2.59141746e-01, 2.58867486e-01,\n",
       "       2.58683841e-01, 2.57763686e-01, 2.57411237e-01, 2.56692324e-01,\n",
       "       2.56008199e-01, 2.46224521e-01, 2.44948159e-01, 2.44268317e-01,\n",
       "       2.44174826e-01, 2.42694324e-01, 2.42506815e-01, 2.38630931e-01,\n",
       "       2.37642188e-01, 2.34435492e-01, 2.33631495e-01, 2.33577214e-01,\n",
       "       2.32630626e-01, 2.32514028e-01, 2.32289127e-01, 2.31988088e-01,\n",
       "       2.30479009e-01, 2.28827340e-01, 2.28702865e-01, 2.27840152e-01,\n",
       "       2.27528144e-01, 2.26090226e-01, 2.25162428e-01, 2.18814905e-01,\n",
       "       2.17430034e-01, 2.15301724e-01, 2.14249642e-01, 2.14023821e-01,\n",
       "       2.11999226e-01, 2.11766962e-01, 2.10960506e-01, 2.10880515e-01,\n",
       "       2.10657293e-01, 2.10403471e-01, 2.10366675e-01, 2.10211368e-01,\n",
       "       2.09766137e-01, 2.09543781e-01, 2.09321598e-01, 2.08877753e-01,\n",
       "       2.08075391e-01, 2.07771171e-01, 2.07244840e-01, 2.07165135e-01,\n",
       "       2.06872573e-01, 2.06390207e-01, 2.05720238e-01, 2.04755963e-01,\n",
       "       2.01332662e-01, 2.00862321e-01, 2.00208510e-01, 2.00043794e-01,\n",
       "       1.98394111e-01, 1.98324396e-01, 1.92326858e-01, 1.91943583e-01,\n",
       "       1.87546715e-01, 1.87313379e-01, 1.87117149e-01, 1.86893588e-01,\n",
       "       1.84543658e-01, 1.84368862e-01, 1.82794730e-01, 1.82685538e-01,\n",
       "       1.81351881e-01, 1.81299532e-01, 1.80429495e-01, 1.79903794e-01,\n",
       "       1.79617375e-01, 1.79377601e-01, 1.78018325e-01, 1.77379861e-01,\n",
       "       1.75266637e-01, 1.74934439e-01, 1.74704125e-01, 1.74612671e-01,\n",
       "       1.74447379e-01, 1.74446994e-01, 1.70720206e-01, 1.70187318e-01,\n",
       "       1.67154240e-01, 1.66483424e-01, 1.66230944e-01, 1.65831998e-01,\n",
       "       1.64771748e-01, 1.64442553e-01, 1.63672484e-01, 1.63590371e-01,\n",
       "       1.62801950e-01, 1.62771596e-01, 1.58756515e-01, 1.58460271e-01,\n",
       "       1.58339708e-01, 1.57918475e-01, 1.57207342e-01, 1.56555983e-01,\n",
       "       1.56307667e-01, 1.56148137e-01, 1.55818819e-01, 1.55649085e-01,\n",
       "       1.54419440e-01, 1.53990083e-01, 1.53500853e-01, 1.53048087e-01,\n",
       "       1.49000720e-01, 1.48975911e-01, 1.48487168e-01, 1.48360251e-01,\n",
       "       1.44152730e-01, 1.44107823e-01, 1.44071376e-01, 1.43943101e-01,\n",
       "       1.42345964e-01, 1.42202035e-01, 1.40795810e-01, 1.40391758e-01,\n",
       "       1.36980549e-01, 1.36627490e-01, 1.36057301e-01, 1.35990544e-01,\n",
       "       1.25305436e-01, 1.25211105e-01, 1.22310600e-01, 1.22280987e-01,\n",
       "       1.15508697e-01, 1.15479052e-01, 1.14033572e-01, 1.13540174e-01,\n",
       "       1.12137097e-01, 1.12085895e-01, 1.10239556e-01, 1.10171576e-01,\n",
       "       1.09444494e-01, 1.09401739e-01, 1.05431725e-01, 1.05325643e-01,\n",
       "       1.02589652e-01, 1.02532511e-01, 1.01849398e-01, 1.01747631e-01,\n",
       "       1.00966126e-01, 1.00927796e-01, 9.87269865e-02, 9.85424549e-02,\n",
       "       9.72750831e-02, 9.70613863e-02, 9.33321974e-02, 9.26337303e-02,\n",
       "       9.21625604e-02, 9.21206657e-02, 8.82421410e-02, 8.79053891e-02,\n",
       "       8.65570137e-02, 8.64762572e-02, 8.62392848e-02, 8.59860765e-02,\n",
       "       8.56733811e-02, 8.55478826e-02, 8.35559532e-02, 8.32903830e-02,\n",
       "       8.32049666e-02, 8.31078597e-02, 8.18197516e-02, 8.16035788e-02,\n",
       "       7.43194353e-02, 7.42809834e-02, 6.86989807e-02, 6.83174251e-02,\n",
       "       6.76670832e-02, 6.76232263e-02, 6.13475175e-02, 6.11194878e-02,\n",
       "       5.29894541e-02, 5.29569833e-02, 4.37992645e-02, 4.37103320e-02,\n",
       "       4.16280874e-02, 4.14503047e-02, 3.98865552e-02, 3.98301346e-02,\n",
       "       3.84715824e-02, 3.84452653e-02, 3.80237334e-02, 3.76529425e-02,\n",
       "       3.63421238e-02, 3.60673132e-02, 3.27782055e-02, 3.26950503e-02,\n",
       "       2.98337456e-02, 2.96202617e-02, 1.63851806e-02, 1.62698578e-02,\n",
       "       6.94842375e-03, 6.80434335e-03, 4.54989887e-03, 4.50453625e-03,\n",
       "       1.44316524e-03])"
      ]
     },
     "execution_count": 50,
     "metadata": {},
     "output_type": "execute_result"
    }
   ],
   "source": [
    "thresholds"
   ]
  },
  {
   "cell_type": "code",
   "execution_count": 51,
   "metadata": {},
   "outputs": [
    {
     "data": {
      "image/png": "[encoded data removed]",
      "text/plain": [
       "<Figure size 432x288 with 1 Axes>"
      ]
     },
     "metadata": {
      "needs_background": "light"
     },
     "output_type": "display_data"
    }
   ],
   "source": [
    "plt.plot([0,1],[0,1],'k--')\n",
    "plt.plot(fpr,tpr,label='Logistic Regression')\n",
    "plt.xlabel('False positive rate')\n",
    "plt.ylabel('True positive rate')\n",
    "plt.title('Logistic_Regression')\n",
    "plt.show()"
   ]
  },
  {
   "cell_type": "code",
   "execution_count": 53,
   "metadata": {},
   "outputs": [
    {
     "data": {
      "text/plain": [
       "0.7159389637701941"
      ]
     },
     "execution_count": 53,
     "metadata": {},
     "output_type": "execute_result"
    }
   ],
   "source": [
    "auc_score=roc_auc_score(Y_test,lg.predict(X_test))\n",
    "auc_score"
   ]
  },
  {
   "cell_type": "markdown",
   "metadata": {},
   "source": [
    "# Cross Validation"
   ]
  },
  {
   "cell_type": "code",
   "execution_count": 54,
   "metadata": {},
   "outputs": [
    {
     "name": "stdout",
     "output_type": "stream",
     "text": [
      "[0.71114265 0.73030518 0.72320795 0.70525568 0.72159091]\n",
      "0.7183004750306472\n"
     ]
    }
   ],
   "source": [
    "from sklearn.model_selection import cross_val_score\n",
    "dtscores=cross_val_score(dtc,X,Y,cv=5)\n",
    "print(dtscores)\n",
    "print(dtscores.mean())"
   ]
  },
  {
   "cell_type": "code",
   "execution_count": 55,
   "metadata": {},
   "outputs": [
    {
     "name": "stdout",
     "output_type": "stream",
     "text": [
      "[0.76453901 0.79007092 0.78723404 0.76420455 0.76988636 0.74857955\n",
      " 0.77556818 0.76704545 0.76988636 0.77556818]\n",
      "0.7712582607994841 0.01130058406615347\n"
     ]
    }
   ],
   "source": [
    "rfscores=cross_val_score(rf,X,Y,cv=10)\n",
    "print(rfscores)\n",
    "print(rfscores.mean(),rfscores.std())"
   ]
  },
  {
   "cell_type": "code",
   "execution_count": 56,
   "metadata": {},
   "outputs": [
    {
     "name": "stdout",
     "output_type": "stream",
     "text": [
      "[0.79488999 0.79488999 0.78069553 0.80113636 0.78835227]\n",
      "0.7919928301825925\n"
     ]
    }
   ],
   "source": [
    "lgscores=cross_val_score(lg,X,Y,cv=5)\n",
    "print(lgscores)\n",
    "print(lgscores.mean())"
   ]
  },
  {
   "cell_type": "markdown",
   "metadata": {},
   "source": [
    "# Coclusion : The Best Model is LogisticRegression with 80% accuracy"
   ]
  },
  {
   "cell_type": "code",
   "execution_count": 58,
   "metadata": {},
   "outputs": [],
   "source": [
    "import pickle\n",
    "filename='TeleChurn.pkl'\n",
    "pickle.dump(lg,open(filename,'wb'))"
   ]
  },
  {
   "cell_type": "code",
   "execution_count": null,
   "metadata": {},
   "outputs": [],
   "source": []
  }
 ],
 "metadata": {
  "kernelspec": {
   "display_name": "Python 3",
   "language": "python",
   "name": "python3"
  },
  "language_info": {
   "codemirror_mode": {
    "name": "ipython",
    "version": 3
   },
   "file_extension": ".py",
   "mimetype": "text/x-python",
   "name": "python",
   "nbconvert_exporter": "python",
   "pygments_lexer": "ipython3",
   "version": "3.8.3"
  }
 },
 "nbformat": 4,
 "nbformat_minor": 4
}
