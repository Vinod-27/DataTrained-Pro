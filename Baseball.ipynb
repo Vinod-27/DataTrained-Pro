{
 "cells": [
  {
   "cell_type": "code",
   "execution_count": 1,
   "metadata": {},
   "outputs": [],
   "source": [
    "import pandas as pd\n",
    "import numpy as np\n",
    "import seaborn as sns\n",
    "import matplotlib.pyplot as plt\n",
    "import warnings\n",
    "warnings.filterwarnings('ignore')\n"
   ]
  },
  {
   "cell_type": "code",
   "execution_count": 2,
   "metadata": {},
   "outputs": [
    {
     "data": {
      "text/html": [
       "<div>\n",
       "<style scoped>\n",
       "    .dataframe tbody tr th:only-of-type {\n",
       "        vertical-align: middle;\n",
       "    }\n",
       "\n",
       "    .dataframe tbody tr th {\n",
       "        vertical-align: top;\n",
       "    }\n",
       "\n",
       "    .dataframe thead th {\n",
       "        text-align: right;\n",
       "    }\n",
       "</style>\n",
       "<table border=\"1\" class=\"dataframe\">\n",
       "  <thead>\n",
       "    <tr style=\"text-align: right;\">\n",
       "      <th></th>\n",
       "      <th>W</th>\n",
       "      <th>R</th>\n",
       "      <th>AB</th>\n",
       "      <th>H</th>\n",
       "      <th>2B</th>\n",
       "      <th>3B</th>\n",
       "      <th>HR</th>\n",
       "      <th>BB</th>\n",
       "      <th>SO</th>\n",
       "      <th>SB</th>\n",
       "      <th>RA</th>\n",
       "      <th>ER</th>\n",
       "      <th>ERA</th>\n",
       "      <th>CG</th>\n",
       "      <th>SHO</th>\n",
       "      <th>SV</th>\n",
       "      <th>E</th>\n",
       "    </tr>\n",
       "  </thead>\n",
       "  <tbody>\n",
       "    <tr>\n",
       "      <th>0</th>\n",
       "      <td>95</td>\n",
       "      <td>724</td>\n",
       "      <td>5575</td>\n",
       "      <td>1497</td>\n",
       "      <td>300</td>\n",
       "      <td>42</td>\n",
       "      <td>139</td>\n",
       "      <td>383</td>\n",
       "      <td>973</td>\n",
       "      <td>104</td>\n",
       "      <td>641</td>\n",
       "      <td>601</td>\n",
       "      <td>3.73</td>\n",
       "      <td>2</td>\n",
       "      <td>8</td>\n",
       "      <td>56</td>\n",
       "      <td>88</td>\n",
       "    </tr>\n",
       "    <tr>\n",
       "      <th>1</th>\n",
       "      <td>83</td>\n",
       "      <td>696</td>\n",
       "      <td>5467</td>\n",
       "      <td>1349</td>\n",
       "      <td>277</td>\n",
       "      <td>44</td>\n",
       "      <td>156</td>\n",
       "      <td>439</td>\n",
       "      <td>1264</td>\n",
       "      <td>70</td>\n",
       "      <td>700</td>\n",
       "      <td>653</td>\n",
       "      <td>4.07</td>\n",
       "      <td>2</td>\n",
       "      <td>12</td>\n",
       "      <td>45</td>\n",
       "      <td>86</td>\n",
       "    </tr>\n",
       "    <tr>\n",
       "      <th>2</th>\n",
       "      <td>81</td>\n",
       "      <td>669</td>\n",
       "      <td>5439</td>\n",
       "      <td>1395</td>\n",
       "      <td>303</td>\n",
       "      <td>29</td>\n",
       "      <td>141</td>\n",
       "      <td>533</td>\n",
       "      <td>1157</td>\n",
       "      <td>86</td>\n",
       "      <td>640</td>\n",
       "      <td>584</td>\n",
       "      <td>3.67</td>\n",
       "      <td>11</td>\n",
       "      <td>10</td>\n",
       "      <td>38</td>\n",
       "      <td>79</td>\n",
       "    </tr>\n",
       "    <tr>\n",
       "      <th>3</th>\n",
       "      <td>76</td>\n",
       "      <td>622</td>\n",
       "      <td>5533</td>\n",
       "      <td>1381</td>\n",
       "      <td>260</td>\n",
       "      <td>27</td>\n",
       "      <td>136</td>\n",
       "      <td>404</td>\n",
       "      <td>1231</td>\n",
       "      <td>68</td>\n",
       "      <td>701</td>\n",
       "      <td>643</td>\n",
       "      <td>3.98</td>\n",
       "      <td>7</td>\n",
       "      <td>9</td>\n",
       "      <td>37</td>\n",
       "      <td>101</td>\n",
       "    </tr>\n",
       "    <tr>\n",
       "      <th>4</th>\n",
       "      <td>74</td>\n",
       "      <td>689</td>\n",
       "      <td>5605</td>\n",
       "      <td>1515</td>\n",
       "      <td>289</td>\n",
       "      <td>49</td>\n",
       "      <td>151</td>\n",
       "      <td>455</td>\n",
       "      <td>1259</td>\n",
       "      <td>83</td>\n",
       "      <td>803</td>\n",
       "      <td>746</td>\n",
       "      <td>4.64</td>\n",
       "      <td>7</td>\n",
       "      <td>12</td>\n",
       "      <td>35</td>\n",
       "      <td>86</td>\n",
       "    </tr>\n",
       "    <tr>\n",
       "      <th>5</th>\n",
       "      <td>93</td>\n",
       "      <td>891</td>\n",
       "      <td>5509</td>\n",
       "      <td>1480</td>\n",
       "      <td>308</td>\n",
       "      <td>17</td>\n",
       "      <td>232</td>\n",
       "      <td>570</td>\n",
       "      <td>1151</td>\n",
       "      <td>88</td>\n",
       "      <td>670</td>\n",
       "      <td>609</td>\n",
       "      <td>3.80</td>\n",
       "      <td>7</td>\n",
       "      <td>10</td>\n",
       "      <td>34</td>\n",
       "      <td>88</td>\n",
       "    </tr>\n",
       "    <tr>\n",
       "      <th>6</th>\n",
       "      <td>87</td>\n",
       "      <td>764</td>\n",
       "      <td>5567</td>\n",
       "      <td>1397</td>\n",
       "      <td>272</td>\n",
       "      <td>19</td>\n",
       "      <td>212</td>\n",
       "      <td>554</td>\n",
       "      <td>1227</td>\n",
       "      <td>63</td>\n",
       "      <td>698</td>\n",
       "      <td>652</td>\n",
       "      <td>4.03</td>\n",
       "      <td>3</td>\n",
       "      <td>4</td>\n",
       "      <td>48</td>\n",
       "      <td>93</td>\n",
       "    </tr>\n",
       "    <tr>\n",
       "      <th>7</th>\n",
       "      <td>81</td>\n",
       "      <td>713</td>\n",
       "      <td>5485</td>\n",
       "      <td>1370</td>\n",
       "      <td>246</td>\n",
       "      <td>20</td>\n",
       "      <td>217</td>\n",
       "      <td>418</td>\n",
       "      <td>1331</td>\n",
       "      <td>44</td>\n",
       "      <td>693</td>\n",
       "      <td>646</td>\n",
       "      <td>4.05</td>\n",
       "      <td>0</td>\n",
       "      <td>10</td>\n",
       "      <td>43</td>\n",
       "      <td>77</td>\n",
       "    </tr>\n",
       "    <tr>\n",
       "      <th>8</th>\n",
       "      <td>80</td>\n",
       "      <td>644</td>\n",
       "      <td>5485</td>\n",
       "      <td>1383</td>\n",
       "      <td>278</td>\n",
       "      <td>32</td>\n",
       "      <td>167</td>\n",
       "      <td>436</td>\n",
       "      <td>1310</td>\n",
       "      <td>87</td>\n",
       "      <td>642</td>\n",
       "      <td>604</td>\n",
       "      <td>3.74</td>\n",
       "      <td>1</td>\n",
       "      <td>12</td>\n",
       "      <td>60</td>\n",
       "      <td>95</td>\n",
       "    </tr>\n",
       "    <tr>\n",
       "      <th>9</th>\n",
       "      <td>78</td>\n",
       "      <td>748</td>\n",
       "      <td>5640</td>\n",
       "      <td>1495</td>\n",
       "      <td>294</td>\n",
       "      <td>33</td>\n",
       "      <td>161</td>\n",
       "      <td>478</td>\n",
       "      <td>1148</td>\n",
       "      <td>71</td>\n",
       "      <td>753</td>\n",
       "      <td>694</td>\n",
       "      <td>4.31</td>\n",
       "      <td>3</td>\n",
       "      <td>10</td>\n",
       "      <td>40</td>\n",
       "      <td>97</td>\n",
       "    </tr>\n",
       "    <tr>\n",
       "      <th>10</th>\n",
       "      <td>88</td>\n",
       "      <td>751</td>\n",
       "      <td>5511</td>\n",
       "      <td>1419</td>\n",
       "      <td>279</td>\n",
       "      <td>32</td>\n",
       "      <td>172</td>\n",
       "      <td>503</td>\n",
       "      <td>1233</td>\n",
       "      <td>101</td>\n",
       "      <td>733</td>\n",
       "      <td>680</td>\n",
       "      <td>4.24</td>\n",
       "      <td>5</td>\n",
       "      <td>9</td>\n",
       "      <td>45</td>\n",
       "      <td>119</td>\n",
       "    </tr>\n",
       "    <tr>\n",
       "      <th>11</th>\n",
       "      <td>86</td>\n",
       "      <td>729</td>\n",
       "      <td>5459</td>\n",
       "      <td>1363</td>\n",
       "      <td>278</td>\n",
       "      <td>26</td>\n",
       "      <td>230</td>\n",
       "      <td>486</td>\n",
       "      <td>1392</td>\n",
       "      <td>121</td>\n",
       "      <td>618</td>\n",
       "      <td>572</td>\n",
       "      <td>3.57</td>\n",
       "      <td>5</td>\n",
       "      <td>13</td>\n",
       "      <td>39</td>\n",
       "      <td>85</td>\n",
       "    </tr>\n",
       "    <tr>\n",
       "      <th>12</th>\n",
       "      <td>85</td>\n",
       "      <td>661</td>\n",
       "      <td>5417</td>\n",
       "      <td>1331</td>\n",
       "      <td>243</td>\n",
       "      <td>21</td>\n",
       "      <td>176</td>\n",
       "      <td>435</td>\n",
       "      <td>1150</td>\n",
       "      <td>52</td>\n",
       "      <td>675</td>\n",
       "      <td>630</td>\n",
       "      <td>3.94</td>\n",
       "      <td>2</td>\n",
       "      <td>12</td>\n",
       "      <td>46</td>\n",
       "      <td>93</td>\n",
       "    </tr>\n",
       "    <tr>\n",
       "      <th>13</th>\n",
       "      <td>76</td>\n",
       "      <td>656</td>\n",
       "      <td>5544</td>\n",
       "      <td>1379</td>\n",
       "      <td>262</td>\n",
       "      <td>22</td>\n",
       "      <td>198</td>\n",
       "      <td>478</td>\n",
       "      <td>1336</td>\n",
       "      <td>69</td>\n",
       "      <td>726</td>\n",
       "      <td>677</td>\n",
       "      <td>4.16</td>\n",
       "      <td>6</td>\n",
       "      <td>12</td>\n",
       "      <td>45</td>\n",
       "      <td>94</td>\n",
       "    </tr>\n",
       "    <tr>\n",
       "      <th>14</th>\n",
       "      <td>68</td>\n",
       "      <td>694</td>\n",
       "      <td>5600</td>\n",
       "      <td>1405</td>\n",
       "      <td>277</td>\n",
       "      <td>46</td>\n",
       "      <td>146</td>\n",
       "      <td>475</td>\n",
       "      <td>1119</td>\n",
       "      <td>78</td>\n",
       "      <td>729</td>\n",
       "      <td>664</td>\n",
       "      <td>4.14</td>\n",
       "      <td>5</td>\n",
       "      <td>15</td>\n",
       "      <td>28</td>\n",
       "      <td>126</td>\n",
       "    </tr>\n",
       "    <tr>\n",
       "      <th>15</th>\n",
       "      <td>100</td>\n",
       "      <td>647</td>\n",
       "      <td>5484</td>\n",
       "      <td>1386</td>\n",
       "      <td>288</td>\n",
       "      <td>39</td>\n",
       "      <td>137</td>\n",
       "      <td>506</td>\n",
       "      <td>1267</td>\n",
       "      <td>69</td>\n",
       "      <td>525</td>\n",
       "      <td>478</td>\n",
       "      <td>2.94</td>\n",
       "      <td>1</td>\n",
       "      <td>15</td>\n",
       "      <td>62</td>\n",
       "      <td>96</td>\n",
       "    </tr>\n",
       "    <tr>\n",
       "      <th>16</th>\n",
       "      <td>98</td>\n",
       "      <td>697</td>\n",
       "      <td>5631</td>\n",
       "      <td>1462</td>\n",
       "      <td>292</td>\n",
       "      <td>27</td>\n",
       "      <td>140</td>\n",
       "      <td>461</td>\n",
       "      <td>1322</td>\n",
       "      <td>98</td>\n",
       "      <td>596</td>\n",
       "      <td>532</td>\n",
       "      <td>3.21</td>\n",
       "      <td>0</td>\n",
       "      <td>13</td>\n",
       "      <td>54</td>\n",
       "      <td>122</td>\n",
       "    </tr>\n",
       "    <tr>\n",
       "      <th>17</th>\n",
       "      <td>97</td>\n",
       "      <td>689</td>\n",
       "      <td>5491</td>\n",
       "      <td>1341</td>\n",
       "      <td>272</td>\n",
       "      <td>30</td>\n",
       "      <td>171</td>\n",
       "      <td>567</td>\n",
       "      <td>1518</td>\n",
       "      <td>95</td>\n",
       "      <td>608</td>\n",
       "      <td>546</td>\n",
       "      <td>3.36</td>\n",
       "      <td>6</td>\n",
       "      <td>21</td>\n",
       "      <td>48</td>\n",
       "      <td>111</td>\n",
       "    </tr>\n",
       "    <tr>\n",
       "      <th>18</th>\n",
       "      <td>68</td>\n",
       "      <td>655</td>\n",
       "      <td>5480</td>\n",
       "      <td>1378</td>\n",
       "      <td>274</td>\n",
       "      <td>34</td>\n",
       "      <td>145</td>\n",
       "      <td>412</td>\n",
       "      <td>1299</td>\n",
       "      <td>84</td>\n",
       "      <td>737</td>\n",
       "      <td>682</td>\n",
       "      <td>4.28</td>\n",
       "      <td>1</td>\n",
       "      <td>7</td>\n",
       "      <td>40</td>\n",
       "      <td>116</td>\n",
       "    </tr>\n",
       "    <tr>\n",
       "      <th>19</th>\n",
       "      <td>64</td>\n",
       "      <td>640</td>\n",
       "      <td>5571</td>\n",
       "      <td>1382</td>\n",
       "      <td>257</td>\n",
       "      <td>27</td>\n",
       "      <td>167</td>\n",
       "      <td>496</td>\n",
       "      <td>1255</td>\n",
       "      <td>134</td>\n",
       "      <td>754</td>\n",
       "      <td>700</td>\n",
       "      <td>4.33</td>\n",
       "      <td>2</td>\n",
       "      <td>8</td>\n",
       "      <td>35</td>\n",
       "      <td>90</td>\n",
       "    </tr>\n",
       "    <tr>\n",
       "      <th>20</th>\n",
       "      <td>90</td>\n",
       "      <td>683</td>\n",
       "      <td>5527</td>\n",
       "      <td>1351</td>\n",
       "      <td>295</td>\n",
       "      <td>17</td>\n",
       "      <td>177</td>\n",
       "      <td>488</td>\n",
       "      <td>1290</td>\n",
       "      <td>51</td>\n",
       "      <td>613</td>\n",
       "      <td>557</td>\n",
       "      <td>3.43</td>\n",
       "      <td>1</td>\n",
       "      <td>14</td>\n",
       "      <td>50</td>\n",
       "      <td>88</td>\n",
       "    </tr>\n",
       "    <tr>\n",
       "      <th>21</th>\n",
       "      <td>83</td>\n",
       "      <td>703</td>\n",
       "      <td>5428</td>\n",
       "      <td>1363</td>\n",
       "      <td>265</td>\n",
       "      <td>13</td>\n",
       "      <td>177</td>\n",
       "      <td>539</td>\n",
       "      <td>1344</td>\n",
       "      <td>57</td>\n",
       "      <td>635</td>\n",
       "      <td>577</td>\n",
       "      <td>3.62</td>\n",
       "      <td>4</td>\n",
       "      <td>13</td>\n",
       "      <td>41</td>\n",
       "      <td>90</td>\n",
       "    </tr>\n",
       "    <tr>\n",
       "      <th>22</th>\n",
       "      <td>71</td>\n",
       "      <td>613</td>\n",
       "      <td>5463</td>\n",
       "      <td>1420</td>\n",
       "      <td>236</td>\n",
       "      <td>40</td>\n",
       "      <td>120</td>\n",
       "      <td>375</td>\n",
       "      <td>1150</td>\n",
       "      <td>112</td>\n",
       "      <td>678</td>\n",
       "      <td>638</td>\n",
       "      <td>4.02</td>\n",
       "      <td>0</td>\n",
       "      <td>12</td>\n",
       "      <td>35</td>\n",
       "      <td>77</td>\n",
       "    </tr>\n",
       "    <tr>\n",
       "      <th>23</th>\n",
       "      <td>67</td>\n",
       "      <td>573</td>\n",
       "      <td>5420</td>\n",
       "      <td>1361</td>\n",
       "      <td>251</td>\n",
       "      <td>18</td>\n",
       "      <td>100</td>\n",
       "      <td>471</td>\n",
       "      <td>1107</td>\n",
       "      <td>69</td>\n",
       "      <td>760</td>\n",
       "      <td>698</td>\n",
       "      <td>4.41</td>\n",
       "      <td>3</td>\n",
       "      <td>10</td>\n",
       "      <td>44</td>\n",
       "      <td>90</td>\n",
       "    </tr>\n",
       "    <tr>\n",
       "      <th>24</th>\n",
       "      <td>63</td>\n",
       "      <td>626</td>\n",
       "      <td>5529</td>\n",
       "      <td>1374</td>\n",
       "      <td>272</td>\n",
       "      <td>37</td>\n",
       "      <td>130</td>\n",
       "      <td>387</td>\n",
       "      <td>1274</td>\n",
       "      <td>88</td>\n",
       "      <td>809</td>\n",
       "      <td>749</td>\n",
       "      <td>4.69</td>\n",
       "      <td>1</td>\n",
       "      <td>7</td>\n",
       "      <td>35</td>\n",
       "      <td>117</td>\n",
       "    </tr>\n",
       "    <tr>\n",
       "      <th>25</th>\n",
       "      <td>92</td>\n",
       "      <td>667</td>\n",
       "      <td>5385</td>\n",
       "      <td>1346</td>\n",
       "      <td>263</td>\n",
       "      <td>26</td>\n",
       "      <td>187</td>\n",
       "      <td>563</td>\n",
       "      <td>1258</td>\n",
       "      <td>59</td>\n",
       "      <td>595</td>\n",
       "      <td>553</td>\n",
       "      <td>3.44</td>\n",
       "      <td>6</td>\n",
       "      <td>21</td>\n",
       "      <td>47</td>\n",
       "      <td>75</td>\n",
       "    </tr>\n",
       "    <tr>\n",
       "      <th>26</th>\n",
       "      <td>84</td>\n",
       "      <td>696</td>\n",
       "      <td>5565</td>\n",
       "      <td>1486</td>\n",
       "      <td>288</td>\n",
       "      <td>39</td>\n",
       "      <td>136</td>\n",
       "      <td>457</td>\n",
       "      <td>1159</td>\n",
       "      <td>93</td>\n",
       "      <td>627</td>\n",
       "      <td>597</td>\n",
       "      <td>3.72</td>\n",
       "      <td>7</td>\n",
       "      <td>18</td>\n",
       "      <td>41</td>\n",
       "      <td>78</td>\n",
       "    </tr>\n",
       "    <tr>\n",
       "      <th>27</th>\n",
       "      <td>79</td>\n",
       "      <td>720</td>\n",
       "      <td>5649</td>\n",
       "      <td>1494</td>\n",
       "      <td>289</td>\n",
       "      <td>48</td>\n",
       "      <td>154</td>\n",
       "      <td>490</td>\n",
       "      <td>1312</td>\n",
       "      <td>132</td>\n",
       "      <td>713</td>\n",
       "      <td>659</td>\n",
       "      <td>4.04</td>\n",
       "      <td>1</td>\n",
       "      <td>12</td>\n",
       "      <td>44</td>\n",
       "      <td>86</td>\n",
       "    </tr>\n",
       "    <tr>\n",
       "      <th>28</th>\n",
       "      <td>74</td>\n",
       "      <td>650</td>\n",
       "      <td>5457</td>\n",
       "      <td>1324</td>\n",
       "      <td>260</td>\n",
       "      <td>36</td>\n",
       "      <td>148</td>\n",
       "      <td>426</td>\n",
       "      <td>1327</td>\n",
       "      <td>82</td>\n",
       "      <td>731</td>\n",
       "      <td>655</td>\n",
       "      <td>4.09</td>\n",
       "      <td>1</td>\n",
       "      <td>6</td>\n",
       "      <td>41</td>\n",
       "      <td>92</td>\n",
       "    </tr>\n",
       "    <tr>\n",
       "      <th>29</th>\n",
       "      <td>68</td>\n",
       "      <td>737</td>\n",
       "      <td>5572</td>\n",
       "      <td>1479</td>\n",
       "      <td>274</td>\n",
       "      <td>49</td>\n",
       "      <td>186</td>\n",
       "      <td>388</td>\n",
       "      <td>1283</td>\n",
       "      <td>97</td>\n",
       "      <td>844</td>\n",
       "      <td>799</td>\n",
       "      <td>5.04</td>\n",
       "      <td>4</td>\n",
       "      <td>4</td>\n",
       "      <td>36</td>\n",
       "      <td>95</td>\n",
       "    </tr>\n",
       "  </tbody>\n",
       "</table>\n",
       "</div>"
      ],
      "text/plain": [
       "      W    R    AB     H   2B  3B   HR   BB    SO   SB   RA   ER   ERA  CG  \\\n",
       "0    95  724  5575  1497  300  42  139  383   973  104  641  601  3.73   2   \n",
       "1    83  696  5467  1349  277  44  156  439  1264   70  700  653  4.07   2   \n",
       "2    81  669  5439  1395  303  29  141  533  1157   86  640  584  3.67  11   \n",
       "3    76  622  5533  1381  260  27  136  404  1231   68  701  643  3.98   7   \n",
       "4    74  689  5605  1515  289  49  151  455  1259   83  803  746  4.64   7   \n",
       "5    93  891  5509  1480  308  17  232  570  1151   88  670  609  3.80   7   \n",
       "6    87  764  5567  1397  272  19  212  554  1227   63  698  652  4.03   3   \n",
       "7    81  713  5485  1370  246  20  217  418  1331   44  693  646  4.05   0   \n",
       "8    80  644  5485  1383  278  32  167  436  1310   87  642  604  3.74   1   \n",
       "9    78  748  5640  1495  294  33  161  478  1148   71  753  694  4.31   3   \n",
       "10   88  751  5511  1419  279  32  172  503  1233  101  733  680  4.24   5   \n",
       "11   86  729  5459  1363  278  26  230  486  1392  121  618  572  3.57   5   \n",
       "12   85  661  5417  1331  243  21  176  435  1150   52  675  630  3.94   2   \n",
       "13   76  656  5544  1379  262  22  198  478  1336   69  726  677  4.16   6   \n",
       "14   68  694  5600  1405  277  46  146  475  1119   78  729  664  4.14   5   \n",
       "15  100  647  5484  1386  288  39  137  506  1267   69  525  478  2.94   1   \n",
       "16   98  697  5631  1462  292  27  140  461  1322   98  596  532  3.21   0   \n",
       "17   97  689  5491  1341  272  30  171  567  1518   95  608  546  3.36   6   \n",
       "18   68  655  5480  1378  274  34  145  412  1299   84  737  682  4.28   1   \n",
       "19   64  640  5571  1382  257  27  167  496  1255  134  754  700  4.33   2   \n",
       "20   90  683  5527  1351  295  17  177  488  1290   51  613  557  3.43   1   \n",
       "21   83  703  5428  1363  265  13  177  539  1344   57  635  577  3.62   4   \n",
       "22   71  613  5463  1420  236  40  120  375  1150  112  678  638  4.02   0   \n",
       "23   67  573  5420  1361  251  18  100  471  1107   69  760  698  4.41   3   \n",
       "24   63  626  5529  1374  272  37  130  387  1274   88  809  749  4.69   1   \n",
       "25   92  667  5385  1346  263  26  187  563  1258   59  595  553  3.44   6   \n",
       "26   84  696  5565  1486  288  39  136  457  1159   93  627  597  3.72   7   \n",
       "27   79  720  5649  1494  289  48  154  490  1312  132  713  659  4.04   1   \n",
       "28   74  650  5457  1324  260  36  148  426  1327   82  731  655  4.09   1   \n",
       "29   68  737  5572  1479  274  49  186  388  1283   97  844  799  5.04   4   \n",
       "\n",
       "    SHO  SV    E  \n",
       "0     8  56   88  \n",
       "1    12  45   86  \n",
       "2    10  38   79  \n",
       "3     9  37  101  \n",
       "4    12  35   86  \n",
       "5    10  34   88  \n",
       "6     4  48   93  \n",
       "7    10  43   77  \n",
       "8    12  60   95  \n",
       "9    10  40   97  \n",
       "10    9  45  119  \n",
       "11   13  39   85  \n",
       "12   12  46   93  \n",
       "13   12  45   94  \n",
       "14   15  28  126  \n",
       "15   15  62   96  \n",
       "16   13  54  122  \n",
       "17   21  48  111  \n",
       "18    7  40  116  \n",
       "19    8  35   90  \n",
       "20   14  50   88  \n",
       "21   13  41   90  \n",
       "22   12  35   77  \n",
       "23   10  44   90  \n",
       "24    7  35  117  \n",
       "25   21  47   75  \n",
       "26   18  41   78  \n",
       "27   12  44   86  \n",
       "28    6  41   92  \n",
       "29    4  36   95  "
      ]
     },
     "execution_count": 2,
     "metadata": {},
     "output_type": "execute_result"
    }
   ],
   "source": [
    "df=pd.read_csv(r\"C:\\Users\\veenu\\Datasets\\baseball.csv\")\n",
    "df"
   ]
  },
  {
   "cell_type": "markdown",
   "metadata": {},
   "source": [
    "# Explotary Data Analysis"
   ]
  },
  {
   "cell_type": "code",
   "execution_count": 3,
   "metadata": {},
   "outputs": [
    {
     "name": "stdout",
     "output_type": "stream",
     "text": [
      "<class 'pandas.core.frame.DataFrame'>\n",
      "RangeIndex: 30 entries, 0 to 29\n",
      "Data columns (total 17 columns):\n",
      " #   Column  Non-Null Count  Dtype  \n",
      "---  ------  --------------  -----  \n",
      " 0   W       30 non-null     int64  \n",
      " 1   R       30 non-null     int64  \n",
      " 2   AB      30 non-null     int64  \n",
      " 3   H       30 non-null     int64  \n",
      " 4   2B      30 non-null     int64  \n",
      " 5   3B      30 non-null     int64  \n",
      " 6   HR      30 non-null     int64  \n",
      " 7   BB      30 non-null     int64  \n",
      " 8   SO      30 non-null     int64  \n",
      " 9   SB      30 non-null     int64  \n",
      " 10  RA      30 non-null     int64  \n",
      " 11  ER      30 non-null     int64  \n",
      " 12  ERA     30 non-null     float64\n",
      " 13  CG      30 non-null     int64  \n",
      " 14  SHO     30 non-null     int64  \n",
      " 15  SV      30 non-null     int64  \n",
      " 16  E       30 non-null     int64  \n",
      "dtypes: float64(1), int64(16)\n",
      "memory usage: 4.1 KB\n"
     ]
    }
   ],
   "source": [
    "df.info()"
   ]
  },
  {
   "cell_type": "code",
   "execution_count": 4,
   "metadata": {},
   "outputs": [
    {
     "data": {
      "text/plain": [
       "(30, 17)"
      ]
     },
     "execution_count": 4,
     "metadata": {},
     "output_type": "execute_result"
    }
   ],
   "source": [
    "df.shape"
   ]
  },
  {
   "cell_type": "code",
   "execution_count": 5,
   "metadata": {},
   "outputs": [
    {
     "data": {
      "text/plain": [
       "Index(['W', 'R', 'AB', 'H', '2B', '3B', 'HR', 'BB', 'SO', 'SB', 'RA', 'ER',\n",
       "       'ERA', 'CG', 'SHO', 'SV', 'E'],\n",
       "      dtype='object')"
      ]
     },
     "execution_count": 5,
     "metadata": {},
     "output_type": "execute_result"
    }
   ],
   "source": [
    "df.columns"
   ]
  },
  {
   "cell_type": "raw",
   "metadata": {},
   "source": [
    "17 columns are present in dataset"
   ]
  },
  {
   "cell_type": "code",
   "execution_count": 6,
   "metadata": {},
   "outputs": [
    {
     "data": {
      "text/plain": [
       "W        int64\n",
       "R        int64\n",
       "AB       int64\n",
       "H        int64\n",
       "2B       int64\n",
       "3B       int64\n",
       "HR       int64\n",
       "BB       int64\n",
       "SO       int64\n",
       "SB       int64\n",
       "RA       int64\n",
       "ER       int64\n",
       "ERA    float64\n",
       "CG       int64\n",
       "SHO      int64\n",
       "SV       int64\n",
       "E        int64\n",
       "dtype: object"
      ]
     },
     "execution_count": 6,
     "metadata": {},
     "output_type": "execute_result"
    }
   ],
   "source": [
    "df.dtypes"
   ]
  },
  {
   "cell_type": "raw",
   "metadata": {},
   "source": [
    "In this dataset deos not have any obejcts"
   ]
  },
  {
   "cell_type": "code",
   "execution_count": 7,
   "metadata": {},
   "outputs": [
    {
     "data": {
      "text/plain": [
       "W      0\n",
       "R      0\n",
       "AB     0\n",
       "H      0\n",
       "2B     0\n",
       "3B     0\n",
       "HR     0\n",
       "BB     0\n",
       "SO     0\n",
       "SB     0\n",
       "RA     0\n",
       "ER     0\n",
       "ERA    0\n",
       "CG     0\n",
       "SHO    0\n",
       "SV     0\n",
       "E      0\n",
       "dtype: int64"
      ]
     },
     "execution_count": 7,
     "metadata": {},
     "output_type": "execute_result"
    }
   ],
   "source": [
    "df.isnull().sum()"
   ]
  },
  {
   "cell_type": "code",
   "execution_count": 8,
   "metadata": {},
   "outputs": [
    {
     "ename": "SyntaxError",
     "evalue": "invalid syntax (<ipython-input-8-a3c94102c6ca>, line 1)",
     "output_type": "error",
     "traceback": [
      "\u001b[1;36m  File \u001b[1;32m\"<ipython-input-8-a3c94102c6ca>\"\u001b[1;36m, line \u001b[1;32m1\u001b[0m\n\u001b[1;33m    No null values present in dataset\u001b[0m\n\u001b[1;37m       ^\u001b[0m\n\u001b[1;31mSyntaxError\u001b[0m\u001b[1;31m:\u001b[0m invalid syntax\n"
     ]
    }
   ],
   "source": [
    "No null values present in dataset"
   ]
  },
  {
   "cell_type": "code",
   "execution_count": null,
   "metadata": {},
   "outputs": [],
   "source": [
    "len(df['W'].value_counts())"
   ]
  },
  {
   "cell_type": "raw",
   "metadata": {},
   "source": [
    "Target variable is continuos,So the problem is besed on Regression models."
   ]
  },
  {
   "cell_type": "code",
   "execution_count": null,
   "metadata": {},
   "outputs": [],
   "source": [
    "sns.heatmap(df.isnull())"
   ]
  },
  {
   "cell_type": "raw",
   "metadata": {},
   "source": [
    "Data Visualization of null values"
   ]
  },
  {
   "cell_type": "code",
   "execution_count": null,
   "metadata": {},
   "outputs": [],
   "source": [
    "df.describe()"
   ]
  },
  {
   "cell_type": "code",
   "execution_count": null,
   "metadata": {},
   "outputs": [],
   "source": [
    "plt.figure(figsize=(30,10))\n",
    "sns.heatmap(df.corr(),annot=True)"
   ]
  },
  {
   "cell_type": "raw",
   "metadata": {},
   "source": [
    "In correlation visualization,['R','AB','CG','E'] this are not highly correlated"
   ]
  },
  {
   "cell_type": "code",
   "execution_count": null,
   "metadata": {},
   "outputs": [],
   "source": [
    "df.plot(kind='box',subplots=True,layout=(3,7))"
   ]
  },
  {
   "cell_type": "code",
   "execution_count": null,
   "metadata": {},
   "outputs": [],
   "source": [
    "df.iloc[:,:8].boxplot(figsize=(22,10))"
   ]
  },
  {
   "cell_type": "code",
   "execution_count": null,
   "metadata": {},
   "outputs": [],
   "source": [
    "df.iloc[:,9:17].boxplot(figsize=(22,10))"
   ]
  },
  {
   "cell_type": "code",
   "execution_count": null,
   "metadata": {},
   "outputs": [],
   "source": [
    "df.skew()"
   ]
  },
  {
   "cell_type": "raw",
   "metadata": {},
   "source": [
    "Skewness is present in some columns"
   ]
  },
  {
   "cell_type": "code",
   "execution_count": null,
   "metadata": {},
   "outputs": [],
   "source": [
    "# sns.pairplot(df)"
   ]
  },
  {
   "cell_type": "code",
   "execution_count": null,
   "metadata": {},
   "outputs": [],
   "source": [
    "columns=['R', 'AB', 'H', '2B', '3B', 'HR', 'BB', 'SO', 'SB', 'RA', 'ER',\n",
    "       'ERA', 'CG', 'SHO', 'SV', 'E']\n",
    "for i in columns:\n",
    "    if df[i].skew()>0.5 or df[i].skew()< -0.5:\n",
    "        print(i,df[i].skew())\n",
    "        sns.distplot(df[i])\n",
    "        plt.show()"
   ]
  },
  {
   "cell_type": "code",
   "execution_count": null,
   "metadata": {},
   "outputs": [],
   "source": [
    "columns=['W','R', 'AB', 'H', '2B', '3B', 'HR', 'BB', 'SO', 'SB', 'RA', 'ER',\n",
    "       'ERA', 'CG', 'SHO', 'SV', 'E']\n",
    "for i in columns:\n",
    "    print(i,len(df[i].value_counts()))\n",
    "    sns.countplot(df[i])\n",
    "    plt.show()"
   ]
  },
  {
   "cell_type": "markdown",
   "metadata": {},
   "source": [
    "# Data Cleaning"
   ]
  },
  {
   "cell_type": "code",
   "execution_count": null,
   "metadata": {},
   "outputs": [],
   "source": [
    "df.drop(['AB','H','CG','E'],axis=1,inplace=True)"
   ]
  },
  {
   "cell_type": "raw",
   "metadata": {},
   "source": [
    "Dropping 4 columns due to less correlation"
   ]
  },
  {
   "cell_type": "code",
   "execution_count": null,
   "metadata": {},
   "outputs": [],
   "source": [
    "df"
   ]
  },
  {
   "cell_type": "code",
   "execution_count": null,
   "metadata": {},
   "outputs": [],
   "source": [
    "df.skew()"
   ]
  },
  {
   "cell_type": "code",
   "execution_count": null,
   "metadata": {},
   "outputs": [],
   "source": [
    "from sklearn.preprocessing import PowerTransformer\n",
    "pt=PowerTransformer()\n",
    "df['R']=pt.fit_transform(pd.DataFrame(df['R']))\n",
    "df['HR']=pt.fit_transform(pd.DataFrame(df['HR']))\n",
    "df['SHO']=pt.fit_transform(pd.DataFrame(df['SHO']))\n",
    "df['SV']=pt.fit_transform(pd.DataFrame(df['SV']))\n",
    "# df['AB']=pt.fit_transform(pd.DataFrame(df['AB']))\n",
    "# df['H']=pt.fit_transform(pd.DataFrame(df['H']))\n",
    "# df['CG']=pt.fit_transform(pd.DataFrame(df['CG']))\n",
    "# df['E']=pt.fit_transform(pd.DataFrame(df['E']))"
   ]
  },
  {
   "cell_type": "raw",
   "metadata": {},
   "source": [
    "I applied Power Transformer for removing skewness"
   ]
  },
  {
   "cell_type": "code",
   "execution_count": null,
   "metadata": {},
   "outputs": [],
   "source": [
    "df.skew()"
   ]
  },
  {
   "cell_type": "code",
   "execution_count": null,
   "metadata": {},
   "outputs": [],
   "source": [
    "df.columns"
   ]
  },
  {
   "cell_type": "code",
   "execution_count": null,
   "metadata": {},
   "outputs": [],
   "source": [
    "columns=['R', '2B', '3B', 'HR', 'BB', 'SO', 'SB', 'RA', 'ER', 'ERA', 'SHO',\n",
    "       'SV']\n",
    "for i in columns:\n",
    "    sns.distplot(df[i])\n",
    "    plt.show()"
   ]
  },
  {
   "cell_type": "code",
   "execution_count": null,
   "metadata": {},
   "outputs": [],
   "source": [
    "X=df.drop('W',axis=1)"
   ]
  },
  {
   "cell_type": "code",
   "execution_count": null,
   "metadata": {},
   "outputs": [],
   "source": [
    "from sklearn.preprocessing import StandardScaler\n",
    "sd=StandardScaler()\n",
    "x=sd.fit_transform(X)\n",
    "x=pd.DataFrame(x,columns=X.columns)\n",
    "x"
   ]
  },
  {
   "cell_type": "raw",
   "metadata": {},
   "source": [
    "Im Using Standard Scaler b'coz the data is not in proper range, i need to set proper range "
   ]
  },
  {
   "cell_type": "code",
   "execution_count": null,
   "metadata": {},
   "outputs": [],
   "source": [
    "y=df['W']"
   ]
  },
  {
   "cell_type": "markdown",
   "metadata": {},
   "source": [
    "# Model Generation"
   ]
  },
  {
   "cell_type": "code",
   "execution_count": null,
   "metadata": {},
   "outputs": [],
   "source": [
    "from sklearn.model_selection import train_test_split\n"
   ]
  },
  {
   "cell_type": "code",
   "execution_count": null,
   "metadata": {},
   "outputs": [],
   "source": [
    "from sklearn.linear_model import LinearRegression\n",
    "l=LinearRegression()\n",
    "from sklearn.metrics import r2_score,mean_absolute_error,mean_squared_error\n",
    "\n",
    "best_state=0\n",
    "accu=0\n",
    "for i in range(1,200):\n",
    "    x_train, x_test, y_train, y_test = train_test_split(x,y, test_size=0.30, \n",
    "                                                    random_state=i)\n",
    "    l = LinearRegression()\n",
    "    l.fit(x_train,y_train)\n",
    "    predictions = l.predict(x_test)\n",
    "    accuracy=r2_score(y_test,predictions)\n",
    "    if accuracy>accu:\n",
    "        accu=accuracy\n",
    "        best_state=i\n",
    "print(f\"Final accuracy is{accu} and best random state is {best_state}\")"
   ]
  },
  {
   "cell_type": "code",
   "execution_count": null,
   "metadata": {},
   "outputs": [],
   "source": [
    "x_train,x_test,y_train,y_test=train_test_split(x,y,test_size=.30,random_state=48)"
   ]
  },
  {
   "cell_type": "code",
   "execution_count": null,
   "metadata": {},
   "outputs": [],
   "source": [
    "from sklearn.model_selection import GridSearchCV\n",
    "from sklearn.ensemble import RandomForestRegressor\n",
    "para={'criterion':['mse','mae'],'max_features':['auto','sqrt','log2']}\n",
    "rf=RandomForestRegressor()\n",
    "clf=GridSearchCV(rf,para)\n",
    "clf.fit(x_train,y_train)\n",
    "print(clf.best_params_)"
   ]
  },
  {
   "cell_type": "code",
   "execution_count": null,
   "metadata": {},
   "outputs": [],
   "source": [
    "rf=RandomForestRegressor(criterion='mae',max_features='log2')\n",
    "rf.fit(x_train,y_train)\n",
    "rf.score(x_train,y_train)\n",
    "pred=rf.predict(x_test)\n",
    "rfs=r2_score(y_test,pred) \n",
    "print(\"R2 Score\",rfs) "
   ]
  },
  {
   "cell_type": "code",
   "execution_count": null,
   "metadata": {},
   "outputs": [],
   "source": [
    "from sklearn.tree import DecisionTreeRegressor\n",
    "d=DecisionTreeRegressor(criterion={\"mse\", \"friedman_mse\", \"mae\"},splitter={\"best\",\"random\"})\n",
    "para={'criterion':[\"mse\", \"friedman_mse\", \"mae\"],'splitter':[\"best\",\"random\"]}\n",
    "d=DecisionTreeRegressor()\n",
    "cl=GridSearchCV(d,para)\n",
    "cl.fit(x_train,y_train)\n",
    "print(cl.best_params_)"
   ]
  },
  {
   "cell_type": "code",
   "execution_count": null,
   "metadata": {},
   "outputs": [],
   "source": [
    "d=DecisionTreeRegressor(criterion='mse',splitter='random')\n",
    "d.fit(x_train,y_train)\n",
    "pred=d.predict(x_test)\n",
    "dt=r2_score(y_test,pred)\n",
    "print(dt)"
   ]
  },
  {
   "cell_type": "markdown",
   "metadata": {},
   "source": [
    "Lasso Ridge Regression"
   ]
  },
  {
   "cell_type": "code",
   "execution_count": null,
   "metadata": {},
   "outputs": [],
   "source": [
    "from sklearn.linear_model import Lasso,Ridge"
   ]
  },
  {
   "cell_type": "code",
   "execution_count": null,
   "metadata": {},
   "outputs": [],
   "source": [
    "\n",
    "ls=Lasso(alpha=0.0001)\n",
    "#ls=Lasso(aplha=1.0 )#Default\n",
    "ls.fit(x_train,y_train)\n",
    "ls.score(x_train,y_train)"
   ]
  },
  {
   "cell_type": "code",
   "execution_count": null,
   "metadata": {},
   "outputs": [],
   "source": [
    "ls.coef_"
   ]
  },
  {
   "cell_type": "code",
   "execution_count": null,
   "metadata": {},
   "outputs": [],
   "source": [
    "rd=Ridge(alpha=0.0001)\n",
    "#rd=Ridge()\n",
    "rd.fit(x_train,y_train)\n",
    "rd.score(x_train,y_train)"
   ]
  },
  {
   "cell_type": "code",
   "execution_count": null,
   "metadata": {},
   "outputs": [],
   "source": [
    "from sklearn.linear_model import ElasticNet\n",
    "enr=ElasticNet(alpha=0.0001)\n",
    "#enr=ElascticNet()\n",
    "enr.fit(x_train,y_train)\n",
    "enrpred=enr.predict(x_test)\n",
    "print(enr.score(x_train,y_train))\n",
    "enr.coef_"
   ]
  },
  {
   "cell_type": "markdown",
   "metadata": {},
   "source": [
    "# Cross Validation"
   ]
  },
  {
   "cell_type": "code",
   "execution_count": null,
   "metadata": {},
   "outputs": [],
   "source": [
    "from sklearn.model_selection import cross_val_score\n",
    "svcscores=cross_val_score(l,x,y,cv=5)\n",
    "print(svcscores.mean())\n"
   ]
  },
  {
   "cell_type": "code",
   "execution_count": null,
   "metadata": {},
   "outputs": [],
   "source": [
    "from sklearn.model_selection import cross_val_score\n",
    "svcscores=cross_val_score(ls,x,y,cv=5)\n",
    "print(svcscores.mean())\n"
   ]
  },
  {
   "cell_type": "code",
   "execution_count": null,
   "metadata": {},
   "outputs": [],
   "source": [
    "from sklearn.model_selection import cross_val_score\n",
    "svcscores=cross_val_score(rf,x,y,cv=5)\n",
    "print(svcscores.mean())\n"
   ]
  },
  {
   "cell_type": "markdown",
   "metadata": {},
   "source": [
    "Saving the best model"
   ]
  },
  {
   "cell_type": "code",
   "execution_count": null,
   "metadata": {},
   "outputs": [],
   "source": [
    "l=LinearRegression()\n",
    "l.fit(x_train,y_train)"
   ]
  },
  {
   "cell_type": "markdown",
   "metadata": {},
   "source": [
    "Conclusion : From all model best model is LinearRegression with 87.15 % accuracy"
   ]
  },
  {
   "cell_type": "code",
   "execution_count": null,
   "metadata": {},
   "outputs": [],
   "source": [
    "import pickle\n",
    "file_name='baseball.pkl'\n",
    "pickle.dump(l,open(file_name,'wb'))"
   ]
  },
  {
   "cell_type": "code",
   "execution_count": null,
   "metadata": {},
   "outputs": [],
   "source": []
  }
 ],
 "metadata": {
  "kernelspec": {
   "display_name": "Python 3",
   "language": "python",
   "name": "python3"
  },
  "language_info": {
   "codemirror_mode": {
    "name": "ipython",
    "version": 3
   },
   "file_extension": ".py",
   "mimetype": "text/x-python",
   "name": "python",
   "nbconvert_exporter": "python",
   "pygments_lexer": "ipython3",
   "version": "3.8.3"
  }
 },
 "nbformat": 4,
 "nbformat_minor": 4
}
